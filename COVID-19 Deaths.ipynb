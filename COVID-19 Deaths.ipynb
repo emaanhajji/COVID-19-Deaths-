{
 "cells": [
  {
   "cell_type": "markdown",
   "id": "7050509a",
   "metadata": {},
   "source": [
    "# Importing Libraries\n",
    "\n",
    "\n"
   ]
  },
  {
   "cell_type": "code",
   "execution_count": 37,
   "id": "900f1b33",
   "metadata": {},
   "outputs": [],
   "source": [
    "\n",
    "import pandas as pd\n",
    "import seaborn as sns\n",
    "import numpy as np\n",
    "import datetime as dt\n",
    "import matplotlib.pyplot as plt\n",
    "from sqlalchemy import create_engine\n",
    "from sqlalchemy import inspect\n",
    "import plotly.express as px"
   ]
  },
  {
   "cell_type": "markdown",
   "id": "ffd787f2",
   "metadata": {},
   "source": [
    "# load dataset"
   ]
  },
  {
   "cell_type": "code",
   "execution_count": 38,
   "id": "6eb73283",
   "metadata": {},
   "outputs": [
    {
     "data": {
      "text/html": [
       "<div>\n",
       "<style scoped>\n",
       "    .dataframe tbody tr th:only-of-type {\n",
       "        vertical-align: middle;\n",
       "    }\n",
       "\n",
       "    .dataframe tbody tr th {\n",
       "        vertical-align: top;\n",
       "    }\n",
       "\n",
       "    .dataframe thead th {\n",
       "        text-align: right;\n",
       "    }\n",
       "</style>\n",
       "<table border=\"1\" class=\"dataframe\">\n",
       "  <thead>\n",
       "    <tr style=\"text-align: right;\">\n",
       "      <th></th>\n",
       "      <th>country</th>\n",
       "      <th>region</th>\n",
       "      <th>region_code</th>\n",
       "      <th>start_date</th>\n",
       "      <th>year</th>\n",
       "      <th>week</th>\n",
       "      <th>population</th>\n",
       "      <th>total_deaths</th>\n",
       "      <th>covid_deaths</th>\n",
       "      <th>expected_deaths</th>\n",
       "      <th>excess_deaths</th>\n",
       "      <th>non_covid_deaths</th>\n",
       "      <th>covid_deaths_per_100k</th>\n",
       "      <th>excess_deaths_per_100k</th>\n",
       "      <th>excess_deaths_pct_change</th>\n",
       "    </tr>\n",
       "  </thead>\n",
       "  <tbody>\n",
       "    <tr>\n",
       "      <th>0</th>\n",
       "      <td>Australia</td>\n",
       "      <td>Australia</td>\n",
       "      <td>0</td>\n",
       "      <td>2020-01-01</td>\n",
       "      <td>2020</td>\n",
       "      <td>1</td>\n",
       "      <td>25734100</td>\n",
       "      <td>2497</td>\n",
       "      <td>0.0</td>\n",
       "      <td>2463.111657</td>\n",
       "      <td>33.888343</td>\n",
       "      <td>2497.0</td>\n",
       "      <td>0.000000</td>\n",
       "      <td>0.131687</td>\n",
       "      <td>0.013758</td>\n",
       "    </tr>\n",
       "    <tr>\n",
       "      <th>1</th>\n",
       "      <td>Australia</td>\n",
       "      <td>Australia</td>\n",
       "      <td>0</td>\n",
       "      <td>2020-01-08</td>\n",
       "      <td>2020</td>\n",
       "      <td>2</td>\n",
       "      <td>25734100</td>\n",
       "      <td>2510</td>\n",
       "      <td>0.0</td>\n",
       "      <td>2458.278324</td>\n",
       "      <td>51.721676</td>\n",
       "      <td>2510.0</td>\n",
       "      <td>0.000000</td>\n",
       "      <td>0.200985</td>\n",
       "      <td>0.021040</td>\n",
       "    </tr>\n",
       "    <tr>\n",
       "      <th>2</th>\n",
       "      <td>Australia</td>\n",
       "      <td>Australia</td>\n",
       "      <td>0</td>\n",
       "      <td>2020-01-15</td>\n",
       "      <td>2020</td>\n",
       "      <td>3</td>\n",
       "      <td>25734100</td>\n",
       "      <td>2501</td>\n",
       "      <td>0.0</td>\n",
       "      <td>2436.444991</td>\n",
       "      <td>64.555009</td>\n",
       "      <td>2501.0</td>\n",
       "      <td>0.000000</td>\n",
       "      <td>0.250854</td>\n",
       "      <td>0.026496</td>\n",
       "    </tr>\n",
       "    <tr>\n",
       "      <th>3</th>\n",
       "      <td>Australia</td>\n",
       "      <td>Australia</td>\n",
       "      <td>0</td>\n",
       "      <td>2020-01-22</td>\n",
       "      <td>2020</td>\n",
       "      <td>4</td>\n",
       "      <td>25734100</td>\n",
       "      <td>2597</td>\n",
       "      <td>0.0</td>\n",
       "      <td>2436.611657</td>\n",
       "      <td>160.388343</td>\n",
       "      <td>2597.0</td>\n",
       "      <td>0.000000</td>\n",
       "      <td>0.623252</td>\n",
       "      <td>0.065824</td>\n",
       "    </tr>\n",
       "    <tr>\n",
       "      <th>4</th>\n",
       "      <td>Australia</td>\n",
       "      <td>Australia</td>\n",
       "      <td>0</td>\n",
       "      <td>2020-01-29</td>\n",
       "      <td>2020</td>\n",
       "      <td>5</td>\n",
       "      <td>25734100</td>\n",
       "      <td>2510</td>\n",
       "      <td>0.0</td>\n",
       "      <td>2425.944991</td>\n",
       "      <td>84.055009</td>\n",
       "      <td>2510.0</td>\n",
       "      <td>0.000000</td>\n",
       "      <td>0.326629</td>\n",
       "      <td>0.034648</td>\n",
       "    </tr>\n",
       "    <tr>\n",
       "      <th>...</th>\n",
       "      <td>...</td>\n",
       "      <td>...</td>\n",
       "      <td>...</td>\n",
       "      <td>...</td>\n",
       "      <td>...</td>\n",
       "      <td>...</td>\n",
       "      <td>...</td>\n",
       "      <td>...</td>\n",
       "      <td>...</td>\n",
       "      <td>...</td>\n",
       "      <td>...</td>\n",
       "      <td>...</td>\n",
       "      <td>...</td>\n",
       "      <td>...</td>\n",
       "      <td>...</td>\n",
       "    </tr>\n",
       "    <tr>\n",
       "      <th>11710</th>\n",
       "      <td>United States</td>\n",
       "      <td>United States</td>\n",
       "      <td>USA</td>\n",
       "      <td>2021-03-14</td>\n",
       "      <td>2021</td>\n",
       "      <td>11</td>\n",
       "      <td>317812460</td>\n",
       "      <td>58076</td>\n",
       "      <td>7022.0</td>\n",
       "      <td>58898.357320</td>\n",
       "      <td>-822.357322</td>\n",
       "      <td>51054.0</td>\n",
       "      <td>2.209479</td>\n",
       "      <td>-0.258756</td>\n",
       "      <td>-0.013962</td>\n",
       "    </tr>\n",
       "    <tr>\n",
       "      <th>11711</th>\n",
       "      <td>United States</td>\n",
       "      <td>United States</td>\n",
       "      <td>USA</td>\n",
       "      <td>2021-03-21</td>\n",
       "      <td>2021</td>\n",
       "      <td>12</td>\n",
       "      <td>317812460</td>\n",
       "      <td>57996</td>\n",
       "      <td>6938.0</td>\n",
       "      <td>58534.957320</td>\n",
       "      <td>-538.957322</td>\n",
       "      <td>51058.0</td>\n",
       "      <td>2.183048</td>\n",
       "      <td>-0.169583</td>\n",
       "      <td>-0.009207</td>\n",
       "    </tr>\n",
       "    <tr>\n",
       "      <th>11712</th>\n",
       "      <td>United States</td>\n",
       "      <td>United States</td>\n",
       "      <td>USA</td>\n",
       "      <td>2021-03-28</td>\n",
       "      <td>2021</td>\n",
       "      <td>13</td>\n",
       "      <td>316020313</td>\n",
       "      <td>55007</td>\n",
       "      <td>9514.0</td>\n",
       "      <td>57810.357320</td>\n",
       "      <td>-2803.357322</td>\n",
       "      <td>45493.0</td>\n",
       "      <td>3.010566</td>\n",
       "      <td>-0.887081</td>\n",
       "      <td>-0.048492</td>\n",
       "    </tr>\n",
       "    <tr>\n",
       "      <th>11713</th>\n",
       "      <td>United States</td>\n",
       "      <td>United States</td>\n",
       "      <td>USA</td>\n",
       "      <td>2021-04-04</td>\n",
       "      <td>2021</td>\n",
       "      <td>14</td>\n",
       "      <td>316020313</td>\n",
       "      <td>55265</td>\n",
       "      <td>6684.0</td>\n",
       "      <td>57736.557320</td>\n",
       "      <td>-2471.557322</td>\n",
       "      <td>48581.0</td>\n",
       "      <td>2.115054</td>\n",
       "      <td>-0.782088</td>\n",
       "      <td>-0.042807</td>\n",
       "    </tr>\n",
       "    <tr>\n",
       "      <th>11714</th>\n",
       "      <td>United States</td>\n",
       "      <td>United States</td>\n",
       "      <td>USA</td>\n",
       "      <td>2021-04-11</td>\n",
       "      <td>2021</td>\n",
       "      <td>15</td>\n",
       "      <td>316020313</td>\n",
       "      <td>50995</td>\n",
       "      <td>4966.0</td>\n",
       "      <td>57356.757320</td>\n",
       "      <td>-6361.757322</td>\n",
       "      <td>46029.0</td>\n",
       "      <td>1.571418</td>\n",
       "      <td>-2.013085</td>\n",
       "      <td>-0.110916</td>\n",
       "    </tr>\n",
       "  </tbody>\n",
       "</table>\n",
       "<p>11715 rows × 15 columns</p>\n",
       "</div>"
      ],
      "text/plain": [
       "             country         region region_code  start_date  year  week  \\\n",
       "0          Australia      Australia           0  2020-01-01  2020     1   \n",
       "1          Australia      Australia           0  2020-01-08  2020     2   \n",
       "2          Australia      Australia           0  2020-01-15  2020     3   \n",
       "3          Australia      Australia           0  2020-01-22  2020     4   \n",
       "4          Australia      Australia           0  2020-01-29  2020     5   \n",
       "...              ...            ...         ...         ...   ...   ...   \n",
       "11710  United States  United States         USA  2021-03-14  2021    11   \n",
       "11711  United States  United States         USA  2021-03-21  2021    12   \n",
       "11712  United States  United States         USA  2021-03-28  2021    13   \n",
       "11713  United States  United States         USA  2021-04-04  2021    14   \n",
       "11714  United States  United States         USA  2021-04-11  2021    15   \n",
       "\n",
       "       population  total_deaths  covid_deaths  expected_deaths  excess_deaths  \\\n",
       "0        25734100          2497           0.0      2463.111657      33.888343   \n",
       "1        25734100          2510           0.0      2458.278324      51.721676   \n",
       "2        25734100          2501           0.0      2436.444991      64.555009   \n",
       "3        25734100          2597           0.0      2436.611657     160.388343   \n",
       "4        25734100          2510           0.0      2425.944991      84.055009   \n",
       "...           ...           ...           ...              ...            ...   \n",
       "11710   317812460         58076        7022.0     58898.357320    -822.357322   \n",
       "11711   317812460         57996        6938.0     58534.957320    -538.957322   \n",
       "11712   316020313         55007        9514.0     57810.357320   -2803.357322   \n",
       "11713   316020313         55265        6684.0     57736.557320   -2471.557322   \n",
       "11714   316020313         50995        4966.0     57356.757320   -6361.757322   \n",
       "\n",
       "       non_covid_deaths  covid_deaths_per_100k  excess_deaths_per_100k  \\\n",
       "0                2497.0               0.000000                0.131687   \n",
       "1                2510.0               0.000000                0.200985   \n",
       "2                2501.0               0.000000                0.250854   \n",
       "3                2597.0               0.000000                0.623252   \n",
       "4                2510.0               0.000000                0.326629   \n",
       "...                 ...                    ...                     ...   \n",
       "11710           51054.0               2.209479               -0.258756   \n",
       "11711           51058.0               2.183048               -0.169583   \n",
       "11712           45493.0               3.010566               -0.887081   \n",
       "11713           48581.0               2.115054               -0.782088   \n",
       "11714           46029.0               1.571418               -2.013085   \n",
       "\n",
       "       excess_deaths_pct_change  \n",
       "0                      0.013758  \n",
       "1                      0.021040  \n",
       "2                      0.026496  \n",
       "3                      0.065824  \n",
       "4                      0.034648  \n",
       "...                         ...  \n",
       "11710                 -0.013962  \n",
       "11711                 -0.009207  \n",
       "11712                 -0.048492  \n",
       "11713                 -0.042807  \n",
       "11714                 -0.110916  \n",
       "\n",
       "[11715 rows x 15 columns]"
      ]
     },
     "execution_count": 38,
     "metadata": {},
     "output_type": "execute_result"
    }
   ],
   "source": [
    "df = pd.read_csv('covid19_deaths.csv')\n",
    "df\n"
   ]
  },
  {
   "cell_type": "markdown",
   "id": "9f72a893",
   "metadata": {},
   "source": [
    "# Overview of the Dataset"
   ]
  },
  {
   "cell_type": "code",
   "execution_count": 39,
   "id": "dc923774",
   "metadata": {},
   "outputs": [
    {
     "name": "stdout",
     "output_type": "stream",
     "text": [
      "<class 'pandas.core.frame.DataFrame'>\n",
      "RangeIndex: 11715 entries, 0 to 11714\n",
      "Data columns (total 15 columns):\n",
      " #   Column                    Non-Null Count  Dtype  \n",
      "---  ------                    --------------  -----  \n",
      " 0   country                   11715 non-null  object \n",
      " 1   region                    11715 non-null  object \n",
      " 2   region_code               11715 non-null  object \n",
      " 3   start_date                11715 non-null  object \n",
      " 4   year                      11715 non-null  int64  \n",
      " 5   week                      11715 non-null  int64  \n",
      " 6   population                11715 non-null  int64  \n",
      " 7   total_deaths              11715 non-null  int64  \n",
      " 8   covid_deaths              11715 non-null  float64\n",
      " 9   expected_deaths           11715 non-null  float64\n",
      " 10  excess_deaths             11715 non-null  float64\n",
      " 11  non_covid_deaths          11715 non-null  float64\n",
      " 12  covid_deaths_per_100k     11715 non-null  float64\n",
      " 13  excess_deaths_per_100k    11715 non-null  float64\n",
      " 14  excess_deaths_pct_change  11715 non-null  float64\n",
      "dtypes: float64(7), int64(4), object(4)\n",
      "memory usage: 1.3+ MB\n"
     ]
    }
   ],
   "source": [
    "df.info()\n",
    "# summary the dataset"
   ]
  },
  {
   "cell_type": "code",
   "execution_count": 4,
   "id": "a3bd872d",
   "metadata": {},
   "outputs": [
    {
     "data": {
      "text/plain": [
       "(11715, 15)"
      ]
     },
     "execution_count": 4,
     "metadata": {},
     "output_type": "execute_result"
    }
   ],
   "source": [
    "df.shape\n",
    "# shape of dataset (columns , rows)"
   ]
  },
  {
   "cell_type": "code",
   "execution_count": 95,
   "id": "5f6203bf",
   "metadata": {},
   "outputs": [
    {
     "data": {
      "text/plain": [
       "Index(['country', 'region', 'region_code', 'start_date', 'year', 'week',\n",
       "       'population', 'total_deaths', 'covid_deaths', 'expected_deaths',\n",
       "       'excess_deaths', 'non_covid_deaths', 'covid_deaths_per_100k',\n",
       "       'excess_deaths_per_100k', 'excess_deaths_pct_change'],\n",
       "      dtype='object')"
      ]
     },
     "execution_count": 95,
     "metadata": {},
     "output_type": "execute_result"
    }
   ],
   "source": [
    "df.columns\n",
    "# #checking columns names"
   ]
  },
  {
   "cell_type": "code",
   "execution_count": 96,
   "id": "9531806f",
   "metadata": {},
   "outputs": [
    {
     "data": {
      "text/html": [
       "<div>\n",
       "<style scoped>\n",
       "    .dataframe tbody tr th:only-of-type {\n",
       "        vertical-align: middle;\n",
       "    }\n",
       "\n",
       "    .dataframe tbody tr th {\n",
       "        vertical-align: top;\n",
       "    }\n",
       "\n",
       "    .dataframe thead th {\n",
       "        text-align: right;\n",
       "    }\n",
       "</style>\n",
       "<table border=\"1\" class=\"dataframe\">\n",
       "  <thead>\n",
       "    <tr style=\"text-align: right;\">\n",
       "      <th></th>\n",
       "      <th>year</th>\n",
       "      <th>week</th>\n",
       "      <th>population</th>\n",
       "      <th>total_deaths</th>\n",
       "      <th>covid_deaths</th>\n",
       "      <th>expected_deaths</th>\n",
       "      <th>excess_deaths</th>\n",
       "      <th>non_covid_deaths</th>\n",
       "      <th>covid_deaths_per_100k</th>\n",
       "      <th>excess_deaths_per_100k</th>\n",
       "      <th>excess_deaths_pct_change</th>\n",
       "    </tr>\n",
       "  </thead>\n",
       "  <tbody>\n",
       "    <tr>\n",
       "      <th>count</th>\n",
       "      <td>11715.000000</td>\n",
       "      <td>11715.000000</td>\n",
       "      <td>1.171500e+04</td>\n",
       "      <td>11715.000000</td>\n",
       "      <td>11715.000000</td>\n",
       "      <td>11715.000000</td>\n",
       "      <td>11715.000000</td>\n",
       "      <td>11715.000000</td>\n",
       "      <td>11715.000000</td>\n",
       "      <td>11715.000000</td>\n",
       "      <td>11715.000000</td>\n",
       "    </tr>\n",
       "    <tr>\n",
       "      <th>mean</th>\n",
       "      <td>2020.203927</td>\n",
       "      <td>23.115322</td>\n",
       "      <td>1.115783e+07</td>\n",
       "      <td>2160.281861</td>\n",
       "      <td>249.987751</td>\n",
       "      <td>1872.656236</td>\n",
       "      <td>287.625625</td>\n",
       "      <td>1910.294110</td>\n",
       "      <td>214.453596</td>\n",
       "      <td>229.005895</td>\n",
       "      <td>0.141454</td>\n",
       "    </tr>\n",
       "    <tr>\n",
       "      <th>std</th>\n",
       "      <td>0.402932</td>\n",
       "      <td>15.789753</td>\n",
       "      <td>2.921175e+07</td>\n",
       "      <td>5860.294477</td>\n",
       "      <td>998.592679</td>\n",
       "      <td>4985.142151</td>\n",
       "      <td>1350.148074</td>\n",
       "      <td>5099.567164</td>\n",
       "      <td>334.141587</td>\n",
       "      <td>467.970160</td>\n",
       "      <td>0.298217</td>\n",
       "    </tr>\n",
       "    <tr>\n",
       "      <th>min</th>\n",
       "      <td>2020.000000</td>\n",
       "      <td>1.000000</td>\n",
       "      <td>8.466700e+04</td>\n",
       "      <td>3.000000</td>\n",
       "      <td>-270.000000</td>\n",
       "      <td>2.000000</td>\n",
       "      <td>-6361.757322</td>\n",
       "      <td>-1723.000000</td>\n",
       "      <td>-880.332268</td>\n",
       "      <td>-1601.989112</td>\n",
       "      <td>-0.823949</td>\n",
       "    </tr>\n",
       "    <tr>\n",
       "      <th>25%</th>\n",
       "      <td>2020.000000</td>\n",
       "      <td>9.000000</td>\n",
       "      <td>1.359711e+06</td>\n",
       "      <td>279.000000</td>\n",
       "      <td>1.000000</td>\n",
       "      <td>257.175625</td>\n",
       "      <td>-5.531544</td>\n",
       "      <td>253.000000</td>\n",
       "      <td>4.747375</td>\n",
       "      <td>-25.787406</td>\n",
       "      <td>-0.015423</td>\n",
       "    </tr>\n",
       "    <tr>\n",
       "      <th>50%</th>\n",
       "      <td>2020.000000</td>\n",
       "      <td>20.000000</td>\n",
       "      <td>4.648794e+06</td>\n",
       "      <td>883.000000</td>\n",
       "      <td>24.000000</td>\n",
       "      <td>814.000000</td>\n",
       "      <td>27.073081</td>\n",
       "      <td>805.000000</td>\n",
       "      <td>89.992848</td>\n",
       "      <td>114.149990</td>\n",
       "      <td>0.069270</td>\n",
       "    </tr>\n",
       "    <tr>\n",
       "      <th>75%</th>\n",
       "      <td>2020.000000</td>\n",
       "      <td>37.000000</td>\n",
       "      <td>8.570146e+06</td>\n",
       "      <td>1624.000000</td>\n",
       "      <td>141.000000</td>\n",
       "      <td>1410.509584</td>\n",
       "      <td>147.225093</td>\n",
       "      <td>1421.500000</td>\n",
       "      <td>292.692587</td>\n",
       "      <td>337.299038</td>\n",
       "      <td>0.204734</td>\n",
       "    </tr>\n",
       "    <tr>\n",
       "      <th>max</th>\n",
       "      <td>2021.000000</td>\n",
       "      <td>53.000000</td>\n",
       "      <td>3.283005e+08</td>\n",
       "      <td>86388.000000</td>\n",
       "      <td>23481.000000</td>\n",
       "      <td>63308.370990</td>\n",
       "      <td>27036.540030</td>\n",
       "      <td>70504.000000</td>\n",
       "      <td>6328.324174</td>\n",
       "      <td>8086.310844</td>\n",
       "      <td>6.350086</td>\n",
       "    </tr>\n",
       "  </tbody>\n",
       "</table>\n",
       "</div>"
      ],
      "text/plain": [
       "               year          week    population  total_deaths  covid_deaths  \\\n",
       "count  11715.000000  11715.000000  1.171500e+04  11715.000000  11715.000000   \n",
       "mean    2020.203927     23.115322  1.115783e+07   2160.281861    249.987751   \n",
       "std        0.402932     15.789753  2.921175e+07   5860.294477    998.592679   \n",
       "min     2020.000000      1.000000  8.466700e+04      3.000000   -270.000000   \n",
       "25%     2020.000000      9.000000  1.359711e+06    279.000000      1.000000   \n",
       "50%     2020.000000     20.000000  4.648794e+06    883.000000     24.000000   \n",
       "75%     2020.000000     37.000000  8.570146e+06   1624.000000    141.000000   \n",
       "max     2021.000000     53.000000  3.283005e+08  86388.000000  23481.000000   \n",
       "\n",
       "       expected_deaths  excess_deaths  non_covid_deaths  \\\n",
       "count     11715.000000   11715.000000      11715.000000   \n",
       "mean       1872.656236     287.625625       1910.294110   \n",
       "std        4985.142151    1350.148074       5099.567164   \n",
       "min           2.000000   -6361.757322      -1723.000000   \n",
       "25%         257.175625      -5.531544        253.000000   \n",
       "50%         814.000000      27.073081        805.000000   \n",
       "75%        1410.509584     147.225093       1421.500000   \n",
       "max       63308.370990   27036.540030      70504.000000   \n",
       "\n",
       "       covid_deaths_per_100k  excess_deaths_per_100k  excess_deaths_pct_change  \n",
       "count           11715.000000            11715.000000              11715.000000  \n",
       "mean              214.453596              229.005895                  0.141454  \n",
       "std               334.141587              467.970160                  0.298217  \n",
       "min              -880.332268            -1601.989112                 -0.823949  \n",
       "25%                 4.747375              -25.787406                 -0.015423  \n",
       "50%                89.992848              114.149990                  0.069270  \n",
       "75%               292.692587              337.299038                  0.204734  \n",
       "max              6328.324174             8086.310844                  6.350086  "
      ]
     },
     "execution_count": 96,
     "metadata": {},
     "output_type": "execute_result"
    }
   ],
   "source": [
    "df.describe()\n",
    "#to view some basic statistical details like percentile, mean, std  ..."
   ]
  },
  {
   "cell_type": "code",
   "execution_count": 97,
   "id": "403675a8",
   "metadata": {},
   "outputs": [
    {
     "data": {
      "text/html": [
       "<div>\n",
       "<style scoped>\n",
       "    .dataframe tbody tr th:only-of-type {\n",
       "        vertical-align: middle;\n",
       "    }\n",
       "\n",
       "    .dataframe tbody tr th {\n",
       "        vertical-align: top;\n",
       "    }\n",
       "\n",
       "    .dataframe thead th {\n",
       "        text-align: right;\n",
       "    }\n",
       "</style>\n",
       "<table border=\"1\" class=\"dataframe\">\n",
       "  <thead>\n",
       "    <tr style=\"text-align: right;\">\n",
       "      <th></th>\n",
       "      <th>country</th>\n",
       "      <th>region</th>\n",
       "      <th>region_code</th>\n",
       "      <th>start_date</th>\n",
       "      <th>year</th>\n",
       "      <th>week</th>\n",
       "      <th>population</th>\n",
       "      <th>total_deaths</th>\n",
       "      <th>covid_deaths</th>\n",
       "      <th>expected_deaths</th>\n",
       "      <th>excess_deaths</th>\n",
       "      <th>non_covid_deaths</th>\n",
       "      <th>covid_deaths_per_100k</th>\n",
       "      <th>excess_deaths_per_100k</th>\n",
       "      <th>excess_deaths_pct_change</th>\n",
       "    </tr>\n",
       "  </thead>\n",
       "  <tbody>\n",
       "    <tr>\n",
       "      <th>0</th>\n",
       "      <td>Australia</td>\n",
       "      <td>Australia</td>\n",
       "      <td>0</td>\n",
       "      <td>2020-01-01</td>\n",
       "      <td>2020</td>\n",
       "      <td>1</td>\n",
       "      <td>25734100</td>\n",
       "      <td>2497</td>\n",
       "      <td>0.0</td>\n",
       "      <td>2463.111657</td>\n",
       "      <td>33.888343</td>\n",
       "      <td>2497.0</td>\n",
       "      <td>0.0</td>\n",
       "      <td>13.168653</td>\n",
       "      <td>0.013758</td>\n",
       "    </tr>\n",
       "    <tr>\n",
       "      <th>1</th>\n",
       "      <td>Australia</td>\n",
       "      <td>Australia</td>\n",
       "      <td>0</td>\n",
       "      <td>2020-01-08</td>\n",
       "      <td>2020</td>\n",
       "      <td>2</td>\n",
       "      <td>25734100</td>\n",
       "      <td>2510</td>\n",
       "      <td>0.0</td>\n",
       "      <td>2458.278324</td>\n",
       "      <td>51.721676</td>\n",
       "      <td>2510.0</td>\n",
       "      <td>0.0</td>\n",
       "      <td>20.098498</td>\n",
       "      <td>0.021040</td>\n",
       "    </tr>\n",
       "    <tr>\n",
       "      <th>2</th>\n",
       "      <td>Australia</td>\n",
       "      <td>Australia</td>\n",
       "      <td>0</td>\n",
       "      <td>2020-01-15</td>\n",
       "      <td>2020</td>\n",
       "      <td>3</td>\n",
       "      <td>25734100</td>\n",
       "      <td>2501</td>\n",
       "      <td>0.0</td>\n",
       "      <td>2436.444991</td>\n",
       "      <td>64.555009</td>\n",
       "      <td>2501.0</td>\n",
       "      <td>0.0</td>\n",
       "      <td>25.085396</td>\n",
       "      <td>0.026496</td>\n",
       "    </tr>\n",
       "    <tr>\n",
       "      <th>3</th>\n",
       "      <td>Australia</td>\n",
       "      <td>Australia</td>\n",
       "      <td>0</td>\n",
       "      <td>2020-01-22</td>\n",
       "      <td>2020</td>\n",
       "      <td>4</td>\n",
       "      <td>25734100</td>\n",
       "      <td>2597</td>\n",
       "      <td>0.0</td>\n",
       "      <td>2436.611657</td>\n",
       "      <td>160.388343</td>\n",
       "      <td>2597.0</td>\n",
       "      <td>0.0</td>\n",
       "      <td>62.325219</td>\n",
       "      <td>0.065824</td>\n",
       "    </tr>\n",
       "    <tr>\n",
       "      <th>4</th>\n",
       "      <td>Australia</td>\n",
       "      <td>Australia</td>\n",
       "      <td>0</td>\n",
       "      <td>2020-01-29</td>\n",
       "      <td>2020</td>\n",
       "      <td>5</td>\n",
       "      <td>25734100</td>\n",
       "      <td>2510</td>\n",
       "      <td>0.0</td>\n",
       "      <td>2425.944991</td>\n",
       "      <td>84.055009</td>\n",
       "      <td>2510.0</td>\n",
       "      <td>0.0</td>\n",
       "      <td>32.662891</td>\n",
       "      <td>0.034648</td>\n",
       "    </tr>\n",
       "  </tbody>\n",
       "</table>\n",
       "</div>"
      ],
      "text/plain": [
       "     country     region region_code  start_date  year  week  population  \\\n",
       "0  Australia  Australia           0  2020-01-01  2020     1    25734100   \n",
       "1  Australia  Australia           0  2020-01-08  2020     2    25734100   \n",
       "2  Australia  Australia           0  2020-01-15  2020     3    25734100   \n",
       "3  Australia  Australia           0  2020-01-22  2020     4    25734100   \n",
       "4  Australia  Australia           0  2020-01-29  2020     5    25734100   \n",
       "\n",
       "   total_deaths  covid_deaths  expected_deaths  excess_deaths  \\\n",
       "0          2497           0.0      2463.111657      33.888343   \n",
       "1          2510           0.0      2458.278324      51.721676   \n",
       "2          2501           0.0      2436.444991      64.555009   \n",
       "3          2597           0.0      2436.611657     160.388343   \n",
       "4          2510           0.0      2425.944991      84.055009   \n",
       "\n",
       "   non_covid_deaths  covid_deaths_per_100k  excess_deaths_per_100k  \\\n",
       "0            2497.0                    0.0               13.168653   \n",
       "1            2510.0                    0.0               20.098498   \n",
       "2            2501.0                    0.0               25.085396   \n",
       "3            2597.0                    0.0               62.325219   \n",
       "4            2510.0                    0.0               32.662891   \n",
       "\n",
       "   excess_deaths_pct_change  \n",
       "0                  0.013758  \n",
       "1                  0.021040  \n",
       "2                  0.026496  \n",
       "3                  0.065824  \n",
       "4                  0.034648  "
      ]
     },
     "execution_count": 97,
     "metadata": {},
     "output_type": "execute_result"
    }
   ],
   "source": [
    "df.head(5)\n",
    "# returns the first 5 rows "
   ]
  },
  {
   "cell_type": "code",
   "execution_count": 98,
   "id": "ecb02443",
   "metadata": {},
   "outputs": [
    {
     "data": {
      "text/html": [
       "<div>\n",
       "<style scoped>\n",
       "    .dataframe tbody tr th:only-of-type {\n",
       "        vertical-align: middle;\n",
       "    }\n",
       "\n",
       "    .dataframe tbody tr th {\n",
       "        vertical-align: top;\n",
       "    }\n",
       "\n",
       "    .dataframe thead th {\n",
       "        text-align: right;\n",
       "    }\n",
       "</style>\n",
       "<table border=\"1\" class=\"dataframe\">\n",
       "  <thead>\n",
       "    <tr style=\"text-align: right;\">\n",
       "      <th></th>\n",
       "      <th>country</th>\n",
       "      <th>region</th>\n",
       "      <th>region_code</th>\n",
       "      <th>start_date</th>\n",
       "      <th>year</th>\n",
       "      <th>week</th>\n",
       "      <th>population</th>\n",
       "      <th>total_deaths</th>\n",
       "      <th>covid_deaths</th>\n",
       "      <th>expected_deaths</th>\n",
       "      <th>excess_deaths</th>\n",
       "      <th>non_covid_deaths</th>\n",
       "      <th>covid_deaths_per_100k</th>\n",
       "      <th>excess_deaths_per_100k</th>\n",
       "      <th>excess_deaths_pct_change</th>\n",
       "    </tr>\n",
       "  </thead>\n",
       "  <tbody>\n",
       "    <tr>\n",
       "      <th>11710</th>\n",
       "      <td>United States</td>\n",
       "      <td>United States</td>\n",
       "      <td>USA</td>\n",
       "      <td>2021-03-14</td>\n",
       "      <td>2021</td>\n",
       "      <td>11</td>\n",
       "      <td>317812460</td>\n",
       "      <td>58076</td>\n",
       "      <td>7022.0</td>\n",
       "      <td>58898.35732</td>\n",
       "      <td>-822.357322</td>\n",
       "      <td>51054.0</td>\n",
       "      <td>220.947914</td>\n",
       "      <td>-25.875553</td>\n",
       "      <td>-0.013962</td>\n",
       "    </tr>\n",
       "    <tr>\n",
       "      <th>11711</th>\n",
       "      <td>United States</td>\n",
       "      <td>United States</td>\n",
       "      <td>USA</td>\n",
       "      <td>2021-03-21</td>\n",
       "      <td>2021</td>\n",
       "      <td>12</td>\n",
       "      <td>317812460</td>\n",
       "      <td>57996</td>\n",
       "      <td>6938.0</td>\n",
       "      <td>58534.95732</td>\n",
       "      <td>-538.957322</td>\n",
       "      <td>51058.0</td>\n",
       "      <td>218.304846</td>\n",
       "      <td>-16.958345</td>\n",
       "      <td>-0.009207</td>\n",
       "    </tr>\n",
       "    <tr>\n",
       "      <th>11712</th>\n",
       "      <td>United States</td>\n",
       "      <td>United States</td>\n",
       "      <td>USA</td>\n",
       "      <td>2021-03-28</td>\n",
       "      <td>2021</td>\n",
       "      <td>13</td>\n",
       "      <td>316020313</td>\n",
       "      <td>55007</td>\n",
       "      <td>9514.0</td>\n",
       "      <td>57810.35732</td>\n",
       "      <td>-2803.357322</td>\n",
       "      <td>45493.0</td>\n",
       "      <td>301.056597</td>\n",
       "      <td>-88.708137</td>\n",
       "      <td>-0.048492</td>\n",
       "    </tr>\n",
       "    <tr>\n",
       "      <th>11713</th>\n",
       "      <td>United States</td>\n",
       "      <td>United States</td>\n",
       "      <td>USA</td>\n",
       "      <td>2021-04-04</td>\n",
       "      <td>2021</td>\n",
       "      <td>14</td>\n",
       "      <td>316020313</td>\n",
       "      <td>55265</td>\n",
       "      <td>6684.0</td>\n",
       "      <td>57736.55732</td>\n",
       "      <td>-2471.557322</td>\n",
       "      <td>48581.0</td>\n",
       "      <td>211.505391</td>\n",
       "      <td>-78.208812</td>\n",
       "      <td>-0.042807</td>\n",
       "    </tr>\n",
       "    <tr>\n",
       "      <th>11714</th>\n",
       "      <td>United States</td>\n",
       "      <td>United States</td>\n",
       "      <td>USA</td>\n",
       "      <td>2021-04-11</td>\n",
       "      <td>2021</td>\n",
       "      <td>15</td>\n",
       "      <td>316020313</td>\n",
       "      <td>50995</td>\n",
       "      <td>4966.0</td>\n",
       "      <td>57356.75732</td>\n",
       "      <td>-6361.757322</td>\n",
       "      <td>46029.0</td>\n",
       "      <td>157.141797</td>\n",
       "      <td>-201.308494</td>\n",
       "      <td>-0.110916</td>\n",
       "    </tr>\n",
       "  </tbody>\n",
       "</table>\n",
       "</div>"
      ],
      "text/plain": [
       "             country         region region_code  start_date  year  week  \\\n",
       "11710  United States  United States         USA  2021-03-14  2021    11   \n",
       "11711  United States  United States         USA  2021-03-21  2021    12   \n",
       "11712  United States  United States         USA  2021-03-28  2021    13   \n",
       "11713  United States  United States         USA  2021-04-04  2021    14   \n",
       "11714  United States  United States         USA  2021-04-11  2021    15   \n",
       "\n",
       "       population  total_deaths  covid_deaths  expected_deaths  excess_deaths  \\\n",
       "11710   317812460         58076        7022.0      58898.35732    -822.357322   \n",
       "11711   317812460         57996        6938.0      58534.95732    -538.957322   \n",
       "11712   316020313         55007        9514.0      57810.35732   -2803.357322   \n",
       "11713   316020313         55265        6684.0      57736.55732   -2471.557322   \n",
       "11714   316020313         50995        4966.0      57356.75732   -6361.757322   \n",
       "\n",
       "       non_covid_deaths  covid_deaths_per_100k  excess_deaths_per_100k  \\\n",
       "11710           51054.0             220.947914              -25.875553   \n",
       "11711           51058.0             218.304846              -16.958345   \n",
       "11712           45493.0             301.056597              -88.708137   \n",
       "11713           48581.0             211.505391              -78.208812   \n",
       "11714           46029.0             157.141797             -201.308494   \n",
       "\n",
       "       excess_deaths_pct_change  \n",
       "11710                 -0.013962  \n",
       "11711                 -0.009207  \n",
       "11712                 -0.048492  \n",
       "11713                 -0.042807  \n",
       "11714                 -0.110916  "
      ]
     },
     "execution_count": 98,
     "metadata": {},
     "output_type": "execute_result"
    }
   ],
   "source": [
    "df.tail(5)\n",
    "# returns the last 5 rows "
   ]
  },
  {
   "cell_type": "code",
   "execution_count": 99,
   "id": "dc602fff",
   "metadata": {},
   "outputs": [
    {
     "data": {
      "text/html": [
       "<div>\n",
       "<style scoped>\n",
       "    .dataframe tbody tr th:only-of-type {\n",
       "        vertical-align: middle;\n",
       "    }\n",
       "\n",
       "    .dataframe tbody tr th {\n",
       "        vertical-align: top;\n",
       "    }\n",
       "\n",
       "    .dataframe thead th {\n",
       "        text-align: right;\n",
       "    }\n",
       "</style>\n",
       "<table border=\"1\" class=\"dataframe\">\n",
       "  <thead>\n",
       "    <tr style=\"text-align: right;\">\n",
       "      <th></th>\n",
       "      <th>year</th>\n",
       "      <th>week</th>\n",
       "      <th>population</th>\n",
       "      <th>total_deaths</th>\n",
       "      <th>covid_deaths</th>\n",
       "      <th>expected_deaths</th>\n",
       "      <th>excess_deaths</th>\n",
       "      <th>non_covid_deaths</th>\n",
       "      <th>covid_deaths_per_100k</th>\n",
       "      <th>excess_deaths_per_100k</th>\n",
       "      <th>excess_deaths_pct_change</th>\n",
       "    </tr>\n",
       "  </thead>\n",
       "  <tbody>\n",
       "    <tr>\n",
       "      <th>year</th>\n",
       "      <td>1.000000</td>\n",
       "      <td>-0.485416</td>\n",
       "      <td>-0.000653</td>\n",
       "      <td>0.016482</td>\n",
       "      <td>0.105461</td>\n",
       "      <td>0.014651</td>\n",
       "      <td>0.017442</td>\n",
       "      <td>-0.001711</td>\n",
       "      <td>0.234663</td>\n",
       "      <td>-0.005735</td>\n",
       "      <td>-0.003078</td>\n",
       "    </tr>\n",
       "    <tr>\n",
       "      <th>week</th>\n",
       "      <td>-0.485416</td>\n",
       "      <td>1.000000</td>\n",
       "      <td>0.000192</td>\n",
       "      <td>-0.001559</td>\n",
       "      <td>0.004453</td>\n",
       "      <td>-0.018615</td>\n",
       "      <td>0.061968</td>\n",
       "      <td>-0.002663</td>\n",
       "      <td>0.060095</td>\n",
       "      <td>0.191882</td>\n",
       "      <td>0.162113</td>\n",
       "    </tr>\n",
       "    <tr>\n",
       "      <th>population</th>\n",
       "      <td>-0.000653</td>\n",
       "      <td>0.000192</td>\n",
       "      <td>1.000000</td>\n",
       "      <td>0.975097</td>\n",
       "      <td>0.704549</td>\n",
       "      <td>0.982225</td>\n",
       "      <td>0.605729</td>\n",
       "      <td>0.982593</td>\n",
       "      <td>0.010967</td>\n",
       "      <td>0.023487</td>\n",
       "      <td>0.037762</td>\n",
       "    </tr>\n",
       "    <tr>\n",
       "      <th>total_deaths</th>\n",
       "      <td>0.016482</td>\n",
       "      <td>-0.001559</td>\n",
       "      <td>0.975097</td>\n",
       "      <td>1.000000</td>\n",
       "      <td>0.797555</td>\n",
       "      <td>0.981909</td>\n",
       "      <td>0.714985</td>\n",
       "      <td>0.992998</td>\n",
       "      <td>0.077984</td>\n",
       "      <td>0.098013</td>\n",
       "      <td>0.099333</td>\n",
       "    </tr>\n",
       "    <tr>\n",
       "      <th>covid_deaths</th>\n",
       "      <td>0.105461</td>\n",
       "      <td>0.004453</td>\n",
       "      <td>0.704549</td>\n",
       "      <td>0.797555</td>\n",
       "      <td>1.000000</td>\n",
       "      <td>0.709322</td>\n",
       "      <td>0.842746</td>\n",
       "      <td>0.720711</td>\n",
       "      <td>0.304489</td>\n",
       "      <td>0.260263</td>\n",
       "      <td>0.257507</td>\n",
       "    </tr>\n",
       "    <tr>\n",
       "      <th>expected_deaths</th>\n",
       "      <td>0.014651</td>\n",
       "      <td>-0.018615</td>\n",
       "      <td>0.982225</td>\n",
       "      <td>0.981909</td>\n",
       "      <td>0.709322</td>\n",
       "      <td>1.000000</td>\n",
       "      <td>0.569668</td>\n",
       "      <td>0.989487</td>\n",
       "      <td>0.021321</td>\n",
       "      <td>0.018451</td>\n",
       "      <td>0.015291</td>\n",
       "    </tr>\n",
       "    <tr>\n",
       "      <th>excess_deaths</th>\n",
       "      <td>0.017442</td>\n",
       "      <td>0.061968</td>\n",
       "      <td>0.605729</td>\n",
       "      <td>0.714985</td>\n",
       "      <td>0.842746</td>\n",
       "      <td>0.569668</td>\n",
       "      <td>1.000000</td>\n",
       "      <td>0.656618</td>\n",
       "      <td>0.259764</td>\n",
       "      <td>0.357294</td>\n",
       "      <td>0.374695</td>\n",
       "    </tr>\n",
       "    <tr>\n",
       "      <th>non_covid_deaths</th>\n",
       "      <td>-0.001711</td>\n",
       "      <td>-0.002663</td>\n",
       "      <td>0.982593</td>\n",
       "      <td>0.992998</td>\n",
       "      <td>0.720711</td>\n",
       "      <td>0.989487</td>\n",
       "      <td>0.656618</td>\n",
       "      <td>1.000000</td>\n",
       "      <td>0.029993</td>\n",
       "      <td>0.061669</td>\n",
       "      <td>0.063726</td>\n",
       "    </tr>\n",
       "    <tr>\n",
       "      <th>covid_deaths_per_100k</th>\n",
       "      <td>0.234663</td>\n",
       "      <td>0.060095</td>\n",
       "      <td>0.010967</td>\n",
       "      <td>0.077984</td>\n",
       "      <td>0.304489</td>\n",
       "      <td>0.021321</td>\n",
       "      <td>0.259764</td>\n",
       "      <td>0.029993</td>\n",
       "      <td>1.000000</td>\n",
       "      <td>0.785213</td>\n",
       "      <td>0.703755</td>\n",
       "    </tr>\n",
       "    <tr>\n",
       "      <th>excess_deaths_per_100k</th>\n",
       "      <td>-0.005735</td>\n",
       "      <td>0.191882</td>\n",
       "      <td>0.023487</td>\n",
       "      <td>0.098013</td>\n",
       "      <td>0.260263</td>\n",
       "      <td>0.018451</td>\n",
       "      <td>0.357294</td>\n",
       "      <td>0.061669</td>\n",
       "      <td>0.785213</td>\n",
       "      <td>1.000000</td>\n",
       "      <td>0.932697</td>\n",
       "    </tr>\n",
       "    <tr>\n",
       "      <th>excess_deaths_pct_change</th>\n",
       "      <td>-0.003078</td>\n",
       "      <td>0.162113</td>\n",
       "      <td>0.037762</td>\n",
       "      <td>0.099333</td>\n",
       "      <td>0.257507</td>\n",
       "      <td>0.015291</td>\n",
       "      <td>0.374695</td>\n",
       "      <td>0.063726</td>\n",
       "      <td>0.703755</td>\n",
       "      <td>0.932697</td>\n",
       "      <td>1.000000</td>\n",
       "    </tr>\n",
       "  </tbody>\n",
       "</table>\n",
       "</div>"
      ],
      "text/plain": [
       "                              year      week  population  total_deaths  \\\n",
       "year                      1.000000 -0.485416   -0.000653      0.016482   \n",
       "week                     -0.485416  1.000000    0.000192     -0.001559   \n",
       "population               -0.000653  0.000192    1.000000      0.975097   \n",
       "total_deaths              0.016482 -0.001559    0.975097      1.000000   \n",
       "covid_deaths              0.105461  0.004453    0.704549      0.797555   \n",
       "expected_deaths           0.014651 -0.018615    0.982225      0.981909   \n",
       "excess_deaths             0.017442  0.061968    0.605729      0.714985   \n",
       "non_covid_deaths         -0.001711 -0.002663    0.982593      0.992998   \n",
       "covid_deaths_per_100k     0.234663  0.060095    0.010967      0.077984   \n",
       "excess_deaths_per_100k   -0.005735  0.191882    0.023487      0.098013   \n",
       "excess_deaths_pct_change -0.003078  0.162113    0.037762      0.099333   \n",
       "\n",
       "                          covid_deaths  expected_deaths  excess_deaths  \\\n",
       "year                          0.105461         0.014651       0.017442   \n",
       "week                          0.004453        -0.018615       0.061968   \n",
       "population                    0.704549         0.982225       0.605729   \n",
       "total_deaths                  0.797555         0.981909       0.714985   \n",
       "covid_deaths                  1.000000         0.709322       0.842746   \n",
       "expected_deaths               0.709322         1.000000       0.569668   \n",
       "excess_deaths                 0.842746         0.569668       1.000000   \n",
       "non_covid_deaths              0.720711         0.989487       0.656618   \n",
       "covid_deaths_per_100k         0.304489         0.021321       0.259764   \n",
       "excess_deaths_per_100k        0.260263         0.018451       0.357294   \n",
       "excess_deaths_pct_change      0.257507         0.015291       0.374695   \n",
       "\n",
       "                          non_covid_deaths  covid_deaths_per_100k  \\\n",
       "year                             -0.001711               0.234663   \n",
       "week                             -0.002663               0.060095   \n",
       "population                        0.982593               0.010967   \n",
       "total_deaths                      0.992998               0.077984   \n",
       "covid_deaths                      0.720711               0.304489   \n",
       "expected_deaths                   0.989487               0.021321   \n",
       "excess_deaths                     0.656618               0.259764   \n",
       "non_covid_deaths                  1.000000               0.029993   \n",
       "covid_deaths_per_100k             0.029993               1.000000   \n",
       "excess_deaths_per_100k            0.061669               0.785213   \n",
       "excess_deaths_pct_change          0.063726               0.703755   \n",
       "\n",
       "                          excess_deaths_per_100k  excess_deaths_pct_change  \n",
       "year                                   -0.005735                 -0.003078  \n",
       "week                                    0.191882                  0.162113  \n",
       "population                              0.023487                  0.037762  \n",
       "total_deaths                            0.098013                  0.099333  \n",
       "covid_deaths                            0.260263                  0.257507  \n",
       "expected_deaths                         0.018451                  0.015291  \n",
       "excess_deaths                           0.357294                  0.374695  \n",
       "non_covid_deaths                        0.061669                  0.063726  \n",
       "covid_deaths_per_100k                   0.785213                  0.703755  \n",
       "excess_deaths_per_100k                  1.000000                  0.932697  \n",
       "excess_deaths_pct_change                0.932697                  1.000000  "
      ]
     },
     "execution_count": 99,
     "metadata": {},
     "output_type": "execute_result"
    }
   ],
   "source": [
    "df.corr()\n",
    "#  to find the pairwise correlation of all columns in the dataframe"
   ]
  },
  {
   "cell_type": "code",
   "execution_count": 100,
   "id": "8f85271c",
   "metadata": {},
   "outputs": [
    {
     "data": {
      "text/html": [
       "<div>\n",
       "<style scoped>\n",
       "    .dataframe tbody tr th:only-of-type {\n",
       "        vertical-align: middle;\n",
       "    }\n",
       "\n",
       "    .dataframe tbody tr th {\n",
       "        vertical-align: top;\n",
       "    }\n",
       "\n",
       "    .dataframe thead th {\n",
       "        text-align: right;\n",
       "    }\n",
       "</style>\n",
       "<table border=\"1\" class=\"dataframe\">\n",
       "  <thead>\n",
       "    <tr style=\"text-align: right;\">\n",
       "      <th></th>\n",
       "      <th>country</th>\n",
       "      <th>region</th>\n",
       "      <th>region_code</th>\n",
       "      <th>start_date</th>\n",
       "      <th>year</th>\n",
       "      <th>week</th>\n",
       "      <th>population</th>\n",
       "      <th>total_deaths</th>\n",
       "      <th>covid_deaths</th>\n",
       "      <th>expected_deaths</th>\n",
       "      <th>excess_deaths</th>\n",
       "      <th>non_covid_deaths</th>\n",
       "      <th>covid_deaths_per_100k</th>\n",
       "      <th>excess_deaths_per_100k</th>\n",
       "      <th>excess_deaths_pct_change</th>\n",
       "    </tr>\n",
       "  </thead>\n",
       "  <tbody>\n",
       "    <tr>\n",
       "      <th>8456</th>\n",
       "      <td>United States</td>\n",
       "      <td>California</td>\n",
       "      <td>CA</td>\n",
       "      <td>2021-02-21</td>\n",
       "      <td>2021</td>\n",
       "      <td>8</td>\n",
       "      <td>39512223</td>\n",
       "      <td>6632</td>\n",
       "      <td>2996.0</td>\n",
       "      <td>5715.857183</td>\n",
       "      <td>916.142817</td>\n",
       "      <td>3636.0</td>\n",
       "      <td>758.246379</td>\n",
       "      <td>231.863142</td>\n",
       "      <td>0.160281</td>\n",
       "    </tr>\n",
       "    <tr>\n",
       "      <th>9356</th>\n",
       "      <td>United States</td>\n",
       "      <td>Louisiana</td>\n",
       "      <td>LA</td>\n",
       "      <td>2020-02-23</td>\n",
       "      <td>2020</td>\n",
       "      <td>9</td>\n",
       "      <td>4648794</td>\n",
       "      <td>993</td>\n",
       "      <td>0.0</td>\n",
       "      <td>930.099721</td>\n",
       "      <td>62.900279</td>\n",
       "      <td>993.0</td>\n",
       "      <td>0.000000</td>\n",
       "      <td>135.304509</td>\n",
       "      <td>0.067627</td>\n",
       "    </tr>\n",
       "    <tr>\n",
       "      <th>2011</th>\n",
       "      <td>Chile</td>\n",
       "      <td>General Carlos Ibáñez del Campo's Aysén</td>\n",
       "      <td>CL-AI</td>\n",
       "      <td>2021-01-01</td>\n",
       "      <td>2021</td>\n",
       "      <td>1</td>\n",
       "      <td>103158</td>\n",
       "      <td>15</td>\n",
       "      <td>0.0</td>\n",
       "      <td>9.441336</td>\n",
       "      <td>5.558664</td>\n",
       "      <td>15.0</td>\n",
       "      <td>0.000000</td>\n",
       "      <td>538.849521</td>\n",
       "      <td>0.588758</td>\n",
       "    </tr>\n",
       "    <tr>\n",
       "      <th>7904</th>\n",
       "      <td>Switzerland</td>\n",
       "      <td>Switzerland</td>\n",
       "      <td>0</td>\n",
       "      <td>2020-03-23</td>\n",
       "      <td>2020</td>\n",
       "      <td>13</td>\n",
       "      <td>8570146</td>\n",
       "      <td>1630</td>\n",
       "      <td>202.0</td>\n",
       "      <td>1284.462921</td>\n",
       "      <td>345.537079</td>\n",
       "      <td>1428.0</td>\n",
       "      <td>235.701935</td>\n",
       "      <td>403.186922</td>\n",
       "      <td>0.269013</td>\n",
       "    </tr>\n",
       "    <tr>\n",
       "      <th>2014</th>\n",
       "      <td>Chile</td>\n",
       "      <td>General Carlos Ibáñez del Campo's Aysén</td>\n",
       "      <td>CL-AI</td>\n",
       "      <td>2021-01-22</td>\n",
       "      <td>2021</td>\n",
       "      <td>4</td>\n",
       "      <td>103158</td>\n",
       "      <td>13</td>\n",
       "      <td>0.0</td>\n",
       "      <td>11.608003</td>\n",
       "      <td>1.391997</td>\n",
       "      <td>13.0</td>\n",
       "      <td>0.000000</td>\n",
       "      <td>134.938368</td>\n",
       "      <td>0.119917</td>\n",
       "    </tr>\n",
       "  </tbody>\n",
       "</table>\n",
       "</div>"
      ],
      "text/plain": [
       "            country                                   region region_code  \\\n",
       "8456  United States                               California          CA   \n",
       "9356  United States                                Louisiana          LA   \n",
       "2011          Chile  General Carlos Ibáñez del Campo's Aysén       CL-AI   \n",
       "7904    Switzerland                              Switzerland           0   \n",
       "2014          Chile  General Carlos Ibáñez del Campo's Aysén       CL-AI   \n",
       "\n",
       "      start_date  year  week  population  total_deaths  covid_deaths  \\\n",
       "8456  2021-02-21  2021     8    39512223          6632        2996.0   \n",
       "9356  2020-02-23  2020     9     4648794           993           0.0   \n",
       "2011  2021-01-01  2021     1      103158            15           0.0   \n",
       "7904  2020-03-23  2020    13     8570146          1630         202.0   \n",
       "2014  2021-01-22  2021     4      103158            13           0.0   \n",
       "\n",
       "      expected_deaths  excess_deaths  non_covid_deaths  covid_deaths_per_100k  \\\n",
       "8456      5715.857183     916.142817            3636.0             758.246379   \n",
       "9356       930.099721      62.900279             993.0               0.000000   \n",
       "2011         9.441336       5.558664              15.0               0.000000   \n",
       "7904      1284.462921     345.537079            1428.0             235.701935   \n",
       "2014        11.608003       1.391997              13.0               0.000000   \n",
       "\n",
       "      excess_deaths_per_100k  excess_deaths_pct_change  \n",
       "8456              231.863142                  0.160281  \n",
       "9356              135.304509                  0.067627  \n",
       "2011              538.849521                  0.588758  \n",
       "7904              403.186922                  0.269013  \n",
       "2014              134.938368                  0.119917  "
      ]
     },
     "execution_count": 100,
     "metadata": {},
     "output_type": "execute_result"
    }
   ],
   "source": [
    "df.sample(5)\n",
    "#returns the random 5 rows "
   ]
  },
  {
   "cell_type": "markdown",
   "id": "1eeea34e",
   "metadata": {},
   "source": [
    "# Data cleaning and preprocessing"
   ]
  },
  {
   "cell_type": "code",
   "execution_count": 101,
   "id": "c358252f",
   "metadata": {},
   "outputs": [
    {
     "data": {
      "text/plain": [
       "country                     0\n",
       "region                      0\n",
       "region_code                 0\n",
       "start_date                  0\n",
       "year                        0\n",
       "week                        0\n",
       "population                  0\n",
       "total_deaths                0\n",
       "covid_deaths                0\n",
       "expected_deaths             0\n",
       "excess_deaths               0\n",
       "non_covid_deaths            0\n",
       "covid_deaths_per_100k       0\n",
       "excess_deaths_per_100k      0\n",
       "excess_deaths_pct_change    0\n",
       "dtype: int64"
      ]
     },
     "execution_count": 101,
     "metadata": {},
     "output_type": "execute_result"
    }
   ],
   "source": [
    "df.isna().sum()\n",
    "#checking the null values"
   ]
  },
  {
   "cell_type": "code",
   "execution_count": 102,
   "id": "e8a92d10",
   "metadata": {},
   "outputs": [
    {
     "data": {
      "text/plain": [
       "<bound method DataFrame.drop_duplicates of              country         region region_code  start_date  year  week  \\\n",
       "0          Australia      Australia           0  2020-01-01  2020     1   \n",
       "1          Australia      Australia           0  2020-01-08  2020     2   \n",
       "2          Australia      Australia           0  2020-01-15  2020     3   \n",
       "3          Australia      Australia           0  2020-01-22  2020     4   \n",
       "4          Australia      Australia           0  2020-01-29  2020     5   \n",
       "...              ...            ...         ...         ...   ...   ...   \n",
       "11710  United States  United States         USA  2021-03-14  2021    11   \n",
       "11711  United States  United States         USA  2021-03-21  2021    12   \n",
       "11712  United States  United States         USA  2021-03-28  2021    13   \n",
       "11713  United States  United States         USA  2021-04-04  2021    14   \n",
       "11714  United States  United States         USA  2021-04-11  2021    15   \n",
       "\n",
       "       population  total_deaths  covid_deaths  expected_deaths  excess_deaths  \\\n",
       "0        25734100          2497           0.0      2463.111657      33.888343   \n",
       "1        25734100          2510           0.0      2458.278324      51.721676   \n",
       "2        25734100          2501           0.0      2436.444991      64.555009   \n",
       "3        25734100          2597           0.0      2436.611657     160.388343   \n",
       "4        25734100          2510           0.0      2425.944991      84.055009   \n",
       "...           ...           ...           ...              ...            ...   \n",
       "11710   317812460         58076        7022.0     58898.357320    -822.357322   \n",
       "11711   317812460         57996        6938.0     58534.957320    -538.957322   \n",
       "11712   316020313         55007        9514.0     57810.357320   -2803.357322   \n",
       "11713   316020313         55265        6684.0     57736.557320   -2471.557322   \n",
       "11714   316020313         50995        4966.0     57356.757320   -6361.757322   \n",
       "\n",
       "       non_covid_deaths  covid_deaths_per_100k  excess_deaths_per_100k  \\\n",
       "0                2497.0               0.000000               13.168653   \n",
       "1                2510.0               0.000000               20.098498   \n",
       "2                2501.0               0.000000               25.085396   \n",
       "3                2597.0               0.000000               62.325219   \n",
       "4                2510.0               0.000000               32.662891   \n",
       "...                 ...                    ...                     ...   \n",
       "11710           51054.0             220.947914              -25.875553   \n",
       "11711           51058.0             218.304846              -16.958345   \n",
       "11712           45493.0             301.056597              -88.708137   \n",
       "11713           48581.0             211.505391              -78.208812   \n",
       "11714           46029.0             157.141797             -201.308494   \n",
       "\n",
       "       excess_deaths_pct_change  \n",
       "0                      0.013758  \n",
       "1                      0.021040  \n",
       "2                      0.026496  \n",
       "3                      0.065824  \n",
       "4                      0.034648  \n",
       "...                         ...  \n",
       "11710                 -0.013962  \n",
       "11711                 -0.009207  \n",
       "11712                 -0.048492  \n",
       "11713                 -0.042807  \n",
       "11714                 -0.110916  \n",
       "\n",
       "[11715 rows x 15 columns]>"
      ]
     },
     "execution_count": 102,
     "metadata": {},
     "output_type": "execute_result"
    }
   ],
   "source": [
    "df.drop_duplicates\n",
    "# checking dublicates and drop"
   ]
  },
  {
   "cell_type": "code",
   "execution_count": 103,
   "id": "a8b94fcb",
   "metadata": {},
   "outputs": [
    {
     "data": {
      "text/plain": [
       "country        region     region_code  start_date  year  week  population  total_deaths  covid_deaths  expected_deaths  excess_deaths  non_covid_deaths  covid_deaths_per_100k  excess_deaths_per_100k  excess_deaths_pct_change\n",
       "Australia      Australia  0            2020-01-01  2020  1     25734100    2497          0.0           2463.111657       33.888343     2497.0            0.000000                13.168653               0.013758                   1\n",
       "Spain          Valencia   10           2020-12-16  2020  51    4948411     1020          131.0         923.250000        96.750000     889.0             264.731446              195.517308              0.104793                   1\n",
       "                                       2020-12-30  2020  53    4948411     331           80.0          281.750000        49.250000     251.0             161.668059              99.526899               0.174800                   1\n",
       "                                       2021-01-01  2021  1     4948411     1273          315.0         1021.750000       251.250000    958.0             636.567981              507.738747              0.245902                   1\n",
       "                                       2021-01-08  2021  2     4948411     1586          420.0         1036.000000       550.000000    1166.0            848.757308              1111.467904             0.530888                   1\n",
       "                                                                                                                                                                                                                                   ..\n",
       "Greece         Greece     0            2020-11-30  2020  49    10724599    3336          682.0         2494.905738       841.094262    2654.0            635.921213              784.266398              0.337125                   1\n",
       "                                       2020-12-07  2020  50    10724599    3115          622.0         2524.655738       590.344262    2493.0            579.975065              550.458122              0.233832                   1\n",
       "                                       2020-12-14  2020  51    10724599    2938          547.0         2581.655738       356.344262    2391.0            510.042380              332.268146              0.138029                   1\n",
       "                                       2020-12-21  2020  52    10724599    2763          434.0         2681.405738       81.594262     2329.0            404.677135              76.081411               0.030430                   1\n",
       "United States  Wyoming    WY           2021-04-11  2021  15    578759      70            2.0           99.939749        -29.939749     68.0              34.556698              -517.309432             -0.299578                   1\n",
       "Length: 11715, dtype: int64"
      ]
     },
     "execution_count": 103,
     "metadata": {},
     "output_type": "execute_result"
    }
   ],
   "source": [
    "df.value_counts()\n",
    "# to counts of unique values"
   ]
  },
  {
   "cell_type": "code",
   "execution_count": 104,
   "id": "6924373d",
   "metadata": {},
   "outputs": [
    {
     "data": {
      "text/plain": [
       "United States     3591\n",
       "Spain             1420\n",
       "Italy             1160\n",
       "Chile             1056\n",
       "Britain            980\n",
       "France             966\n",
       "Netherlands         70\n",
       "Estonia             70\n",
       "Peru                70\n",
       "South Africa        70\n",
       "Denmark             70\n",
       "Bulgaria            69\n",
       "Norway              69\n",
       "Lithuania           69\n",
       "Belgium             69\n",
       "Austria             69\n",
       "Switzerland         69\n",
       "Germany             69\n",
       "New Zealand         68\n",
       "Sweden              68\n",
       "Slovenia            68\n",
       "Portugal            68\n",
       "Latvia              68\n",
       "Finland             67\n",
       "Colombia            67\n",
       "Poland              67\n",
       "Hungary             67\n",
       "Greece              66\n",
       "Luxembourg          66\n",
       "Mexico              65\n",
       "Cyprus              65\n",
       "Croatia             65\n",
       "Czech Republic      65\n",
       "Slovakia            65\n",
       "Iceland             64\n",
       "Malta               64\n",
       "Israel              63\n",
       "South Korea         62\n",
       "Romania             60\n",
       "Tunisia             58\n",
       "Montenegro          57\n",
       "Australia           57\n",
       "Canada              54\n",
       "Turkey              53\n",
       "Taiwan              52\n",
       "Name: country, dtype: int64"
      ]
     },
     "execution_count": 104,
     "metadata": {},
     "output_type": "execute_result"
    }
   ],
   "source": [
    "df.country.value_counts()\n",
    "# to counts of unique country"
   ]
  },
  {
   "cell_type": "code",
   "execution_count": 105,
   "id": "b9beef33",
   "metadata": {},
   "outputs": [
    {
     "data": {
      "text/plain": [
       "array(['Australia', 'Austria', 'Belgium', 'England and Wales',\n",
       "       'North East', 'North West', 'Yorkshire and The Humber',\n",
       "       'East Midlands', 'West Midlands', 'East', 'London', 'South East',\n",
       "       'South West', 'Wales', 'Scotland', 'Northern Ireland', 'Britain',\n",
       "       'Bulgaria', 'Canada', 'Tarapacá', 'Antofagasta', 'Atacama',\n",
       "       'Coquimbo', 'Valparaíso', 'Libertador General Bernardo OHiggins',\n",
       "       'Maule', 'Biobio', 'Araucanía', 'Los Lagos',\n",
       "       \"General Carlos Ibáñez del Campo's Aysén\",\n",
       "       'Magellan and Chilean Antarctica', 'Santiago Metropolitan',\n",
       "       'Los Ríos', 'Arica y Parinacota', 'Chile', 'Colombia', 'Croatia',\n",
       "       'Cyprus', 'Czech Republic', 'Denmark', 'Estonia', 'Finland',\n",
       "       'Auvergne-Rhône-Alpes', 'Bourgogne-Franche-Comté', 'Brittany',\n",
       "       'Centre-Val de Loire', 'Corsica', 'Grand Est', 'Hauts-de-France',\n",
       "       'Île-de-France (Paris)', 'Normandy', 'Nouvelle-Aquitaine',\n",
       "       'Occitanie', 'Pays de la Loire', \"Provence-Alpes-Côte d'Azur\",\n",
       "       'France', 'Germany', 'Greece', 'Hungary', 'Iceland', 'Israel',\n",
       "       'Piemonte', \"Valle d'Aosta/Vallée d'Aoste\", 'Lombardy', 'Veneto',\n",
       "       'Friuli-Venezia Giulia', 'Liguria', 'Emilia-Romagna', 'Tuscany',\n",
       "       'Umbria', 'Marche', 'Lazio', 'Abruzzo', 'Molise', 'Campania',\n",
       "       'Puglia', 'Basilicata', 'Calabria', 'Sicily', 'Sardinia', 'Italy',\n",
       "       'Latvia', 'Lithuania', 'Luxembourg', 'Malta', 'Mexico',\n",
       "       'Montenegro', 'Netherlands', 'New Zealand', 'Norway', 'Peru',\n",
       "       'Poland', 'Portugal', 'Romania', 'Slovakia', 'Slovenia',\n",
       "       'South Africa', 'South Korea', 'Andalusia', 'Aragón', 'Asturias',\n",
       "       'Balearics', 'Basque Country', 'Canary Islands', 'Cantabria',\n",
       "       'Castile & León', 'Castile-La Mancha', 'Catalonia', 'Ceuta',\n",
       "       'Extremadura', 'Galicia', 'La Rioja', 'Madrid', 'Melilla',\n",
       "       'Murcia', 'Navarre', 'Spain', 'Valencia', 'Sweden', 'Switzerland',\n",
       "       'Taiwan', 'Tunisia', 'Istanbul', 'Alabama', 'Alaska', 'Arizona',\n",
       "       'Arkansas', 'California', 'Colorado', 'Connecticut', 'Delaware',\n",
       "       'District of Columbia', 'Florida', 'Georgia', 'Hawaii', 'Idaho',\n",
       "       'Illinois', 'Indiana', 'Iowa', 'Kansas', 'Kentucky', 'Louisiana',\n",
       "       'Maine', 'Maryland', 'Massachusetts', 'Michigan', 'Minnesota',\n",
       "       'Mississippi', 'Missouri', 'Montana', 'Nebraska', 'Nevada',\n",
       "       'New Hampshire', 'New Jersey', 'New Mexico', 'New York City',\n",
       "       'North Carolina', 'North Dakota', 'Ohio', 'Oklahoma', 'Oregon',\n",
       "       'Pennsylvania', 'Rhode Island', 'South Carolina', 'South Dakota',\n",
       "       'Tennessee', 'Texas', 'Utah', 'Vermont', 'Virginia', 'Washington',\n",
       "       'West Virginia', 'Wisconsin', 'Wyoming', 'New York',\n",
       "       'United States'], dtype=object)"
      ]
     },
     "execution_count": 105,
     "metadata": {},
     "output_type": "execute_result"
    }
   ],
   "source": [
    "df.region.unique()\n",
    "# to find unique of region"
   ]
  },
  {
   "cell_type": "code",
   "execution_count": 106,
   "id": "9ea41d41",
   "metadata": {},
   "outputs": [
    {
     "data": {
      "text/plain": [
       "array(['Australia', 'Austria', 'Belgium', 'Britain', 'Bulgaria', 'Canada',\n",
       "       'Chile', 'Colombia', 'Croatia', 'Cyprus', 'Czech Republic',\n",
       "       'Denmark', 'Estonia', 'Finland', 'France', 'Germany', 'Greece',\n",
       "       'Hungary', 'Iceland', 'Israel', 'Italy', 'Latvia', 'Lithuania',\n",
       "       'Luxembourg', 'Malta', 'Mexico', 'Montenegro', 'Netherlands',\n",
       "       'New Zealand', 'Norway', 'Peru', 'Poland', 'Portugal', 'Romania',\n",
       "       'Slovakia', 'Slovenia', 'South Africa', 'South Korea', 'Spain',\n",
       "       'Sweden', 'Switzerland', 'Taiwan', 'Tunisia', 'Turkey',\n",
       "       'United States'], dtype=object)"
      ]
     },
     "execution_count": 106,
     "metadata": {},
     "output_type": "execute_result"
    }
   ],
   "source": [
    "df.country.unique()\n",
    "# to find unique of country"
   ]
  },
  {
   "cell_type": "code",
   "execution_count": 107,
   "id": "4ddef7a3",
   "metadata": {},
   "outputs": [
    {
     "data": {
      "text/plain": [
       "0         25734100\n",
       "1         25734100\n",
       "2         25734100\n",
       "3         25734100\n",
       "4         25734100\n",
       "           ...    \n",
       "11710    317812460\n",
       "11711    317812460\n",
       "11712    316020313\n",
       "11713    316020313\n",
       "11714    316020313\n",
       "Name: population, Length: 11715, dtype: int32"
      ]
     },
     "execution_count": 107,
     "metadata": {},
     "output_type": "execute_result"
    }
   ],
   "source": [
    "df['population']=df.population.astype('int')\n",
    "df['population']\n",
    "\n",
    "#convert number of population from string to int to make it esay for any one read the column"
   ]
  },
  {
   "cell_type": "code",
   "execution_count": 108,
   "id": "f8959400",
   "metadata": {},
   "outputs": [
    {
     "data": {
      "text/plain": [
       "0         25734100\n",
       "1         25734100\n",
       "2         25734100\n",
       "3         25734100\n",
       "4         25734100\n",
       "           ...    \n",
       "11710    317812460\n",
       "11711    317812460\n",
       "11712    316020313\n",
       "11713    316020313\n",
       "11714    316020313\n",
       "Name: population, Length: 11715, dtype: int32"
      ]
     },
     "execution_count": 108,
     "metadata": {},
     "output_type": "execute_result"
    }
   ],
   "source": [
    "pop = df.population.replace(',', '')\n",
    "pop\n",
    "#remove space"
   ]
  },
  {
   "cell_type": "code",
   "execution_count": 109,
   "id": "fcd151f5",
   "metadata": {},
   "outputs": [
    {
     "data": {
      "text/plain": [
       "0         2463.111657\n",
       "1         2458.278324\n",
       "2         2436.444991\n",
       "3         2436.611657\n",
       "4         2425.944991\n",
       "             ...     \n",
       "11710    58898.357320\n",
       "11711    58534.957320\n",
       "11712    57810.357320\n",
       "11713    57736.557320\n",
       "11714    57356.757320\n",
       "Name: expected_deaths, Length: 11715, dtype: float64"
      ]
     },
     "execution_count": 109,
     "metadata": {},
     "output_type": "execute_result"
    }
   ],
   "source": [
    "s = df.expected_deaths.replace(',', '')\n",
    "s"
   ]
  },
  {
   "cell_type": "code",
   "execution_count": 110,
   "id": "4f1bb770",
   "metadata": {},
   "outputs": [
    {
     "data": {
      "text/plain": [
       "0            Australia\n",
       "1            Australia\n",
       "2            Australia\n",
       "3            Australia\n",
       "4            Australia\n",
       "             ...      \n",
       "11710    United States\n",
       "11711    United States\n",
       "11712    United States\n",
       "11713    United States\n",
       "11714    United States\n",
       "Name: country, Length: 11715, dtype: object"
      ]
     },
     "execution_count": 110,
     "metadata": {},
     "output_type": "execute_result"
    }
   ],
   "source": [
    "country =df.country.str.strip()\n",
    "country\n",
    "#remove whitespace\n"
   ]
  },
  {
   "cell_type": "code",
   "execution_count": 111,
   "id": "8bc59c77",
   "metadata": {},
   "outputs": [
    {
     "data": {
      "text/plain": [
       "0            Australia\n",
       "1            Australia\n",
       "2            Australia\n",
       "3            Australia\n",
       "4            Australia\n",
       "             ...      \n",
       "11710    United States\n",
       "11711    United States\n",
       "11712    United States\n",
       "11713    United States\n",
       "11714    United States\n",
       "Name: region, Length: 11715, dtype: object"
      ]
     },
     "execution_count": 111,
     "metadata": {},
     "output_type": "execute_result"
    }
   ],
   "source": [
    "region =df.region.str.strip()\n",
    "region\n",
    "#remove whitespace\n"
   ]
  },
  {
   "cell_type": "code",
   "execution_count": 112,
   "id": "df982d06",
   "metadata": {},
   "outputs": [
    {
     "data": {
      "text/html": [
       "<div>\n",
       "<style scoped>\n",
       "    .dataframe tbody tr th:only-of-type {\n",
       "        vertical-align: middle;\n",
       "    }\n",
       "\n",
       "    .dataframe tbody tr th {\n",
       "        vertical-align: top;\n",
       "    }\n",
       "\n",
       "    .dataframe thead th {\n",
       "        text-align: right;\n",
       "    }\n",
       "</style>\n",
       "<table border=\"1\" class=\"dataframe\">\n",
       "  <thead>\n",
       "    <tr style=\"text-align: right;\">\n",
       "      <th></th>\n",
       "      <th>country</th>\n",
       "      <th>region</th>\n",
       "      <th>region_code</th>\n",
       "      <th>start_date</th>\n",
       "      <th>year</th>\n",
       "      <th>week</th>\n",
       "      <th>population</th>\n",
       "      <th>total_deaths</th>\n",
       "      <th>covid_deaths</th>\n",
       "      <th>expected_deaths</th>\n",
       "      <th>excess_deaths</th>\n",
       "      <th>non_covid_deaths</th>\n",
       "      <th>covid_deaths_per_100k</th>\n",
       "      <th>excess_deaths_per_100k</th>\n",
       "      <th>excess_deaths_pct_change</th>\n",
       "    </tr>\n",
       "  </thead>\n",
       "  <tbody>\n",
       "    <tr>\n",
       "      <th>0</th>\n",
       "      <td>Australia</td>\n",
       "      <td>Australia</td>\n",
       "      <td>0</td>\n",
       "      <td>2020-01-01</td>\n",
       "      <td>2020</td>\n",
       "      <td>1</td>\n",
       "      <td>25734100</td>\n",
       "      <td>2497</td>\n",
       "      <td>0.0</td>\n",
       "      <td>2463.111657</td>\n",
       "      <td>33.888343</td>\n",
       "      <td>2497.0</td>\n",
       "      <td>0.0</td>\n",
       "      <td>1316.86528</td>\n",
       "      <td>0.013758</td>\n",
       "    </tr>\n",
       "    <tr>\n",
       "      <th>1</th>\n",
       "      <td>Australia</td>\n",
       "      <td>Australia</td>\n",
       "      <td>0</td>\n",
       "      <td>2020-01-08</td>\n",
       "      <td>2020</td>\n",
       "      <td>2</td>\n",
       "      <td>25734100</td>\n",
       "      <td>2510</td>\n",
       "      <td>0.0</td>\n",
       "      <td>2458.278324</td>\n",
       "      <td>51.721676</td>\n",
       "      <td>2510.0</td>\n",
       "      <td>0.0</td>\n",
       "      <td>2009.84981</td>\n",
       "      <td>0.021040</td>\n",
       "    </tr>\n",
       "    <tr>\n",
       "      <th>2</th>\n",
       "      <td>Australia</td>\n",
       "      <td>Australia</td>\n",
       "      <td>0</td>\n",
       "      <td>2020-01-15</td>\n",
       "      <td>2020</td>\n",
       "      <td>3</td>\n",
       "      <td>25734100</td>\n",
       "      <td>2501</td>\n",
       "      <td>0.0</td>\n",
       "      <td>2436.444991</td>\n",
       "      <td>64.555009</td>\n",
       "      <td>2501.0</td>\n",
       "      <td>0.0</td>\n",
       "      <td>2508.53962</td>\n",
       "      <td>0.026496</td>\n",
       "    </tr>\n",
       "  </tbody>\n",
       "</table>\n",
       "</div>"
      ],
      "text/plain": [
       "     country     region region_code  start_date  year  week  population  \\\n",
       "0  Australia  Australia           0  2020-01-01  2020     1    25734100   \n",
       "1  Australia  Australia           0  2020-01-08  2020     2    25734100   \n",
       "2  Australia  Australia           0  2020-01-15  2020     3    25734100   \n",
       "\n",
       "   total_deaths  covid_deaths  expected_deaths  excess_deaths  \\\n",
       "0          2497           0.0      2463.111657      33.888343   \n",
       "1          2510           0.0      2458.278324      51.721676   \n",
       "2          2501           0.0      2436.444991      64.555009   \n",
       "\n",
       "   non_covid_deaths  covid_deaths_per_100k  excess_deaths_per_100k  \\\n",
       "0            2497.0                    0.0              1316.86528   \n",
       "1            2510.0                    0.0              2009.84981   \n",
       "2            2501.0                    0.0              2508.53962   \n",
       "\n",
       "   excess_deaths_pct_change  \n",
       "0                  0.013758  \n",
       "1                  0.021040  \n",
       "2                  0.026496  "
      ]
     },
     "execution_count": 112,
     "metadata": {},
     "output_type": "execute_result"
    }
   ],
   "source": [
    "\n",
    "df['excess_deaths_per_100k'] = df['excess_deaths_per_100k'].apply(lambda x: x*100)\n",
    "df['covid_deaths_per_100k'] = df['covid_deaths_per_100k'].apply(lambda x: x*100)\n",
    "# convert into %\n",
    "df.head(3)"
   ]
  },
  {
   "cell_type": "markdown",
   "id": "65969966",
   "metadata": {},
   "source": [
    "# Analysis deaths for 2020"
   ]
  },
  {
   "cell_type": "code",
   "execution_count": 113,
   "id": "447b5f84",
   "metadata": {},
   "outputs": [
    {
     "data": {
      "text/plain": [
       "1834317.5"
      ]
     },
     "execution_count": 113,
     "metadata": {},
     "output_type": "execute_result"
    }
   ],
   "source": [
    "df[df.year==2020].covid_deaths.sum()\n",
    "\n",
    "#total covide deaths in 2020"
   ]
  },
  {
   "cell_type": "code",
   "execution_count": 114,
   "id": "1354c130",
   "metadata": {},
   "outputs": [
    {
     "data": {
      "text/plain": [
       "5025.527397260274"
      ]
     },
     "execution_count": 114,
     "metadata": {},
     "output_type": "execute_result"
    }
   ],
   "source": [
    "df[df.year==2020].covid_deaths.sum()/365\n",
    "# #total covide deaths in 2020 per day"
   ]
  },
  {
   "cell_type": "code",
   "execution_count": 115,
   "id": "2ca20fb2",
   "metadata": {},
   "outputs": [
    {
     "data": {
      "text/plain": [
       "17856580.5"
      ]
     },
     "execution_count": 115,
     "metadata": {},
     "output_type": "execute_result"
    }
   ],
   "source": [
    "df[df.year==2020].non_covid_deaths.sum()\n",
    "#total on_covid_deaths in 2020"
   ]
  },
  {
   "cell_type": "code",
   "execution_count": 116,
   "id": "beea8e41",
   "metadata": {},
   "outputs": [
    {
     "data": {
      "text/plain": [
       "48922.13835616438"
      ]
     },
     "execution_count": 116,
     "metadata": {},
     "output_type": "execute_result"
    }
   ],
   "source": [
    "df[df.year==2020].non_covid_deaths.sum()/365\n",
    "# #total non_covid_deaths in 2020 per day"
   ]
  },
  {
   "cell_type": "markdown",
   "id": "7f2674ba",
   "metadata": {},
   "source": [
    "# Analysis deaths for 2021"
   ]
  },
  {
   "cell_type": "code",
   "execution_count": 117,
   "id": "ddfd80aa",
   "metadata": {},
   "outputs": [
    {
     "data": {
      "text/plain": [
       "1094289.0"
      ]
     },
     "execution_count": 117,
     "metadata": {},
     "output_type": "execute_result"
    }
   ],
   "source": [
    "df[df.year==2021].covid_deaths.sum()\n",
    "\n",
    "#total covide deaths in 2021\n"
   ]
  },
  {
   "cell_type": "code",
   "execution_count": 118,
   "id": "c36c328b",
   "metadata": {},
   "outputs": [
    {
     "data": {
      "text/plain": [
       "2998.0520547945207"
      ]
     },
     "execution_count": 118,
     "metadata": {},
     "output_type": "execute_result"
    }
   ],
   "source": [
    "df[df.year==2021].covid_deaths.sum()/365\n",
    "# #total covide deaths in 2021 per day"
   ]
  },
  {
   "cell_type": "code",
   "execution_count": 119,
   "id": "bbf01efc",
   "metadata": {},
   "outputs": [
    {
     "data": {
      "text/plain": [
       "4522515.0"
      ]
     },
     "execution_count": 119,
     "metadata": {},
     "output_type": "execute_result"
    }
   ],
   "source": [
    "df[df.year==2021].non_covid_deaths.sum()\n",
    "#total on_covid_deaths in 2021"
   ]
  },
  {
   "cell_type": "code",
   "execution_count": 120,
   "id": "08679495",
   "metadata": {},
   "outputs": [
    {
     "data": {
      "text/plain": [
       "12390.452054794521"
      ]
     },
     "execution_count": 120,
     "metadata": {},
     "output_type": "execute_result"
    }
   ],
   "source": [
    "df[df.year==2021].non_covid_deaths.sum()/365\n",
    "# #total non_covid_deaths in 2021 per day"
   ]
  },
  {
   "cell_type": "code",
   "execution_count": 121,
   "id": "c0c28065",
   "metadata": {},
   "outputs": [
    {
     "data": {
      "text/plain": [
       "4011.789726027397"
      ]
     },
     "execution_count": 121,
     "metadata": {},
     "output_type": "execute_result"
    }
   ],
   "source": [
    "(df[df.year==2021].covid_deaths.sum() + df[df.year==2020].covid_deaths.sum()) / 730\n",
    "##total covide deaths in 2020-2021 per day"
   ]
  },
  {
   "cell_type": "code",
   "execution_count": 122,
   "id": "b71cf883",
   "metadata": {
    "scrolled": true
   },
   "outputs": [
    {
     "data": {
      "text/plain": [
       "year\n",
       "2020    19690898\n",
       "2021     5616804\n",
       "Name: total_deaths, dtype: int64"
      ]
     },
     "execution_count": 122,
     "metadata": {},
     "output_type": "execute_result"
    }
   ],
   "source": [
    "df.groupby('year').total_deaths.sum()\n",
    "#the total deaths in 2020-2021"
   ]
  },
  {
   "cell_type": "code",
   "execution_count": 123,
   "id": "98da64d2",
   "metadata": {},
   "outputs": [
    {
     "data": {
      "text/plain": [
       "country\n",
       "Australia         1.496655e+05\n",
       "Austria           1.109644e+05\n",
       "Belgium           1.474055e+05\n",
       "Britain           2.392837e+06\n",
       "Bulgaria          1.447352e+05\n",
       "Canada            3.021065e+05\n",
       "Chile             2.752850e+05\n",
       "Colombia          3.219970e+05\n",
       "Croatia           6.512707e+04\n",
       "Cyprus            8.065238e+03\n",
       "Czech Republic    1.435666e+05\n",
       "Denmark           7.478760e+04\n",
       "Estonia           2.121658e+04\n",
       "Finland           7.099471e+04\n",
       "France            1.597086e+06\n",
       "Germany           1.287694e+06\n",
       "Greece            1.628057e+05\n",
       "Hungary           1.693805e+05\n",
       "Iceland           2.873245e+03\n",
       "Israel            5.675108e+04\n",
       "Italy             1.385186e+06\n",
       "Latvia            3.699225e+04\n",
       "Lithuania         5.018531e+04\n",
       "Luxembourg        5.687613e+03\n",
       "Malta             4.838374e+03\n",
       "Mexico            9.539070e+05\n",
       "Montenegro        7.221762e+03\n",
       "Netherlands       2.104309e+05\n",
       "New Zealand       4.471229e+04\n",
       "Norway            5.457257e+04\n",
       "Peru              1.696903e+05\n",
       "Poland            5.435134e+05\n",
       "Portugal          1.519349e+05\n",
       "Romania           3.027746e+05\n",
       "Slovakia          6.807661e+04\n",
       "Slovenia          2.791818e+04\n",
       "South Africa      6.412180e+05\n",
       "South Korea       3.674119e+05\n",
       "Spain             1.103154e+06\n",
       "Sweden            1.151147e+05\n",
       "Switzerland       9.048181e+04\n",
       "Taiwan            1.777583e+05\n",
       "Tunisia           8.367764e+04\n",
       "Turkey            7.634707e+04\n",
       "United States     7.760018e+06\n",
       "Name: expected_deaths, dtype: float64"
      ]
     },
     "execution_count": 123,
     "metadata": {},
     "output_type": "execute_result"
    }
   ],
   "source": [
    "df.groupby('country').expected_deaths.sum()\n"
   ]
  },
  {
   "cell_type": "code",
   "execution_count": 124,
   "id": "0582d2dd",
   "metadata": {},
   "outputs": [
    {
     "data": {
      "text/plain": [
       "country\n",
       "Australia         3.637472e+03\n",
       "Austria           8.972594e+03\n",
       "Belgium           1.740048e+04\n",
       "Britain           3.361517e+05\n",
       "Bulgaria          2.873575e+04\n",
       "Canada            1.388849e+04\n",
       "Chile             4.485502e+04\n",
       "Colombia          7.370496e+04\n",
       "Croatia           6.670928e+03\n",
       "Cyprus            8.576180e+01\n",
       "Czech Republic    3.101442e+04\n",
       "Denmark          -9.906028e+02\n",
       "Estonia           1.504423e+03\n",
       "Finland           4.972880e+02\n",
       "France            1.494457e+05\n",
       "Germany           3.986247e+04\n",
       "Greece            4.534260e+03\n",
       "Hungary           2.032854e+04\n",
       "Iceland          -3.024476e+01\n",
       "Israel            4.125920e+03\n",
       "Italy             2.201383e+05\n",
       "Latvia            2.129752e+03\n",
       "Lithuania         9.010688e+03\n",
       "Luxembourg        2.093873e+02\n",
       "Malta             2.916257e+02\n",
       "Mexico            4.359720e+05\n",
       "Montenegro        8.722382e+02\n",
       "Netherlands       1.825407e+04\n",
       "New Zealand      -2.094288e+03\n",
       "Norway           -1.281575e+03\n",
       "Peru              1.652047e+05\n",
       "Poland            9.575960e+04\n",
       "Portugal          1.948709e+04\n",
       "Romania           4.208244e+04\n",
       "Slovakia          1.488039e+04\n",
       "Slovenia          3.588824e+03\n",
       "South Africa      1.447340e+05\n",
       "South Korea      -4.981944e+03\n",
       "Spain             1.562508e+05\n",
       "Sweden            9.770317e+03\n",
       "Switzerland       8.286195e+03\n",
       "Taiwan           -5.931302e+03\n",
       "Tunisia           4.162355e+03\n",
       "Turkey            1.619893e+04\n",
       "United States     1.232144e+06\n",
       "Name: excess_deaths, dtype: float64"
      ]
     },
     "execution_count": 124,
     "metadata": {},
     "output_type": "execute_result"
    }
   ],
   "source": [
    "df.groupby('country').excess_deaths.sum()"
   ]
  },
  {
   "cell_type": "code",
   "execution_count": 125,
   "id": "ac96c95b",
   "metadata": {},
   "outputs": [
    {
     "data": {
      "text/html": [
       "<div>\n",
       "<style scoped>\n",
       "    .dataframe tbody tr th:only-of-type {\n",
       "        vertical-align: middle;\n",
       "    }\n",
       "\n",
       "    .dataframe tbody tr th {\n",
       "        vertical-align: top;\n",
       "    }\n",
       "\n",
       "    .dataframe thead th {\n",
       "        text-align: right;\n",
       "    }\n",
       "</style>\n",
       "<table border=\"1\" class=\"dataframe\">\n",
       "  <thead>\n",
       "    <tr style=\"text-align: right;\">\n",
       "      <th></th>\n",
       "      <th>country</th>\n",
       "      <th>covid_deaths</th>\n",
       "    </tr>\n",
       "  </thead>\n",
       "  <tbody>\n",
       "    <tr>\n",
       "      <th>0</th>\n",
       "      <td>United States</td>\n",
       "      <td>1148316.0</td>\n",
       "    </tr>\n",
       "    <tr>\n",
       "      <th>1</th>\n",
       "      <td>Britain</td>\n",
       "      <td>439528.0</td>\n",
       "    </tr>\n",
       "    <tr>\n",
       "      <th>2</th>\n",
       "      <td>Mexico</td>\n",
       "      <td>201623.0</td>\n",
       "    </tr>\n",
       "    <tr>\n",
       "      <th>3</th>\n",
       "      <td>France</td>\n",
       "      <td>177639.0</td>\n",
       "    </tr>\n",
       "    <tr>\n",
       "      <th>4</th>\n",
       "      <td>Italy</td>\n",
       "      <td>172992.0</td>\n",
       "    </tr>\n",
       "  </tbody>\n",
       "</table>\n",
       "</div>"
      ],
      "text/plain": [
       "         country  covid_deaths\n",
       "0  United States     1148316.0\n",
       "1        Britain      439528.0\n",
       "2         Mexico      201623.0\n",
       "3         France      177639.0\n",
       "4          Italy      172992.0"
      ]
     },
     "execution_count": 125,
     "metadata": {},
     "output_type": "execute_result"
    }
   ],
   "source": [
    "top_total_deaths = df.groupby(by = 'country')['covid_deaths'].sum().sort_values(ascending = False).head(5).reset_index()\n",
    "top_total_deaths\n",
    "#find top total deaths for 2020-2021"
   ]
  },
  {
   "cell_type": "code",
   "execution_count": 126,
   "id": "f217f270",
   "metadata": {},
   "outputs": [
    {
     "data": {
      "text/html": [
       "<div>\n",
       "<style scoped>\n",
       "    .dataframe tbody tr th:only-of-type {\n",
       "        vertical-align: middle;\n",
       "    }\n",
       "\n",
       "    .dataframe tbody tr th {\n",
       "        vertical-align: top;\n",
       "    }\n",
       "\n",
       "    .dataframe thead th {\n",
       "        text-align: right;\n",
       "    }\n",
       "</style>\n",
       "<table border=\"1\" class=\"dataframe\">\n",
       "  <thead>\n",
       "    <tr style=\"text-align: right;\">\n",
       "      <th></th>\n",
       "      <th>country</th>\n",
       "      <th>covid_deaths</th>\n",
       "    </tr>\n",
       "  </thead>\n",
       "  <tbody>\n",
       "    <tr>\n",
       "      <th>0</th>\n",
       "      <td>Taiwan</td>\n",
       "      <td>7.0</td>\n",
       "    </tr>\n",
       "    <tr>\n",
       "      <th>1</th>\n",
       "      <td>New Zealand</td>\n",
       "      <td>26.0</td>\n",
       "    </tr>\n",
       "    <tr>\n",
       "      <th>2</th>\n",
       "      <td>Iceland</td>\n",
       "      <td>29.0</td>\n",
       "    </tr>\n",
       "    <tr>\n",
       "      <th>3</th>\n",
       "      <td>Cyprus</td>\n",
       "      <td>252.0</td>\n",
       "    </tr>\n",
       "    <tr>\n",
       "      <th>4</th>\n",
       "      <td>Malta</td>\n",
       "      <td>372.0</td>\n",
       "    </tr>\n",
       "  </tbody>\n",
       "</table>\n",
       "</div>"
      ],
      "text/plain": [
       "       country  covid_deaths\n",
       "0       Taiwan           7.0\n",
       "1  New Zealand          26.0\n",
       "2      Iceland          29.0\n",
       "3       Cyprus         252.0\n",
       "4        Malta         372.0"
      ]
     },
     "execution_count": 126,
     "metadata": {},
     "output_type": "execute_result"
    }
   ],
   "source": [
    "lowest_total_deaths = df.groupby(by = 'country')['covid_deaths'].sum().sort_values().head(5).reset_index()\n",
    "lowest_total_deaths\n",
    "#Find the lowest number of total deaths of 5 in 2020-2021"
   ]
  },
  {
   "cell_type": "markdown",
   "id": "9a9eb910",
   "metadata": {},
   "source": [
    "# Visualization"
   ]
  },
  {
   "cell_type": "code",
   "execution_count": 127,
   "id": "9e74aeed",
   "metadata": {},
   "outputs": [
    {
     "data": {
      "text/plain": [
       "[Text(0.5, 0, 'covid deaths'), Text(0, 0.5, 'Country')]"
      ]
     },
     "execution_count": 127,
     "metadata": {},
     "output_type": "execute_result"
    },
    {
     "data": {
      "image/png": "[encoded data removed]",
      "text/plain": [
       "<Figure size 720x720 with 1 Axes>"
      ]
     },
     "metadata": {
      "needs_background": "light"
     },
     "output_type": "display_data"
    }
   ],
   "source": [
    "plt.figure(figsize= (10,10))\n",
    "\n",
    "plt.xlabel(\"Total covid deaths \",fontsize = 15)\n",
    "plt.ylabel('Country',fontsize = 15)\n",
    "plt.title(\"Top 5 countries having covid-19 deaths \" , fontsize = 15)\n",
    "ax = sns.barplot(x = top_total_deaths.covid_deaths, y = top_total_deaths.country)\n",
    "for i, (value, name) in enumerate(zip(top_total_deaths.covid_deaths, top_total_deaths.country)):\n",
    "    ax.text(value, i-.05, f'{value:,.0f}',  size=10, ha='left',  va='center')\n",
    "ax.set(xlabel='covid deaths', ylabel='Country')"
   ]
  },
  {
   "cell_type": "code",
   "execution_count": 128,
   "id": "9f2ba374",
   "metadata": {},
   "outputs": [
    {
     "data": {
      "text/plain": [
       "[Text(0.5, 0, 'covid deaths'), Text(0, 0.5, 'Country')]"
      ]
     },
     "execution_count": 128,
     "metadata": {},
     "output_type": "execute_result"
    },
    {
     "data": {
      "image/png": "[encoded data removed]",
      "text/plain": [
       "<Figure size 720x720 with 1 Axes>"
      ]
     },
     "metadata": {
      "needs_background": "light"
     },
     "output_type": "display_data"
    }
   ],
   "source": [
    "plt.figure(figsize= (10,10))\n",
    "\n",
    "plt.xlabel(\"Total covid deaths \",fontsize = 15)\n",
    "plt.ylabel('Country',fontsize = 15)\n",
    "plt.title(\"Lowest 5 countries having covid-19 deaths \" , fontsize = 15)\n",
    "ax = sns.barplot(x = lowest_total_deaths.covid_deaths, y = lowest_total_deaths.country)\n",
    "for i, (value, name) in enumerate(zip(lowest_total_deaths.covid_deaths, lowest_total_deaths.country)):\n",
    "    ax.text(value, i-.05, f'{value:,.0f}',  size=10, ha='left',  va='center')\n",
    "ax.set(xlabel='covid deaths', ylabel='Country')"
   ]
  },
  {
   "cell_type": "code",
   "execution_count": 134,
   "id": "c317cc3e",
   "metadata": {},
   "outputs": [
    {
     "data": {
      "text/plain": [
       "Text(0, 0.5, 'Covid-19 deaths')"
      ]
     },
     "execution_count": 134,
     "metadata": {},
     "output_type": "execute_result"
    },
    {
     "data": {
      "image/png": "[encoded data removed]",
      "text/plain": [
       "<Figure size 432x288 with 1 Axes>"
      ]
     },
     "metadata": {
      "needs_background": "light"
     },
     "output_type": "display_data"
    }
   ],
   "source": [
    "d=df.groupby('year').covid_deaths.sum().plot(kind='bar' , color='silver')\n",
    "plt.xlabel(\"Year \",fontsize = 15)\n",
    "plt.ylabel('Covid-19 deaths',fontsize = 15)\n",
    "\n",
    "#In which year did covid deaths rise?\n"
   ]
  },
  {
   "cell_type": "code",
   "execution_count": 130,
   "id": "978fa6fc",
   "metadata": {},
   "outputs": [
    {
     "data": {
      "image/png": "[encoded data removed]",
      "text/plain": [
       "<Figure size 432x288 with 1 Axes>"
      ]
     },
     "metadata": {},
     "output_type": "display_data"
    }
   ],
   "source": [
    "labels = 'covid_deaths-in-2020','non_covid_deaths-in2020'\n",
    "sizes = [1834317.5 ,17856580.5\n",
    "]\n",
    "explode = (0, 0.4)  # only \"explode\" the 2nd slice (i.e. 'Hogs')\n",
    "\n",
    "fig1, ax1 = plt.subplots()\n",
    "ax1.pie(sizes, explode=explode, labels=labels, autopct='%1.1f%%',\n",
    "        shadow=True, startangle=90)\n",
    "\n",
    "\n",
    "plt.show()\n",
    "\n",
    "# percentage between  covid_deaths  , non_covid_deaths in 2020"
   ]
  },
  {
   "cell_type": "code",
   "execution_count": 135,
   "id": "f3b6bede",
   "metadata": {},
   "outputs": [
    {
     "data": {
      "image/png": "[encoded data removed]",
      "text/plain": [
       "<Figure size 432x288 with 1 Axes>"
      ]
     },
     "metadata": {},
     "output_type": "display_data"
    }
   ],
   "source": [
    "labels = 'covid_deaths-2021','non_covid_deaths-2021'\n",
    "sizes = [1094289.0 , 4522515.0]\n",
    "\n",
    "explode = (0, 0.4)  # only \"explode\" the 2nd slice (i.e. 'Hogs')\n",
    "\n",
    "fig1, ax1 = plt.subplots()\n",
    "ax1.pie(sizes, explode=explode, labels=labels, autopct='%1.1f%%',\n",
    "        shadow=True, startangle=160)\n",
    " # Equal aspect ratio ensures that pie is drawn as a circle.\n",
    "\n",
    "plt.show()\n",
    "\n",
    "# compare between  covid_deaths , total_deaths , non_covid_deaths in 2021"
   ]
  },
  {
   "cell_type": "code",
   "execution_count": 132,
   "id": "15ab9e26",
   "metadata": {},
   "outputs": [
    {
     "data": {
      "image/png": "[encoded data removed]",
      "text/plain": [
       "<Figure size 720x504 with 1 Axes>"
      ]
     },
     "metadata": {
      "needs_background": "light"
     },
     "output_type": "display_data"
    }
   ],
   "source": [
    "barWidth = 0.25\n",
    "plt.figure(figsize=(10,7))\n",
    "df.groupby('year').expected_deaths.sum().plot(kind='bar', color = 'Purple' )\n",
    "df.groupby('year').excess_deaths.sum().plot(kind='bar',color = 'yellow' \n",
    "        )\n",
    "\n",
    "\n",
    "\n",
    "plt.ylabel(ylabel =' number of deaths ')\n",
    "plt.legend()\n",
    "plt.show()\n",
    "\n",
    "\n",
    "\n",
    "#Number of Total Deaths and Covid Deaths in World"
   ]
  },
  {
   "cell_type": "code",
   "execution_count": 133,
   "id": "d293107b",
   "metadata": {},
   "outputs": [
    {
     "data": {
      "text/plain": [
       "<AxesSubplot:>"
      ]
     },
     "execution_count": 133,
     "metadata": {},
     "output_type": "execute_result"
    },
    {
     "data": {
      "image/png": "[encoded data removed]",
      "text/plain": [
       "<Figure size 720x720 with 2 Axes>"
      ]
     },
     "metadata": {
      "needs_background": "light"
     },
     "output_type": "display_data"
    }
   ],
   "source": [
    "plt.figure(figsize = (10,10))\n",
    "sns.heatmap(df.corr(),square=True,  annot=True)\n",
    "# correlations within variables"
   ]
  },
  {
   "cell_type": "code",
   "execution_count": null,
   "id": "4c3ee473",
   "metadata": {},
   "outputs": [],
   "source": []
  },
  {
   "cell_type": "code",
   "execution_count": null,
   "id": "b6930bd4",
   "metadata": {},
   "outputs": [],
   "source": []
  }
 ],
 "metadata": {
  "kernelspec": {
   "display_name": "Python 3",
   "language": "python",
   "name": "python3"
  },
  "language_info": {
   "codemirror_mode": {
    "name": "ipython",
    "version": 3
   },
   "file_extension": ".py",
   "mimetype": "text/x-python",
   "name": "python",
   "nbconvert_exporter": "python",
   "pygments_lexer": "ipython3",
   "version": "3.8.8"
  }
 },
 "nbformat": 4,
 "nbformat_minor": 5
}
